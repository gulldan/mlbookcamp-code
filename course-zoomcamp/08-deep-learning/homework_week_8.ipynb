{
  "nbformat": 4,
  "nbformat_minor": 0,
  "metadata": {
    "colab": {
      "name": "ML_bootcamp_8_homework.ipynb",
      "provenance": [],
      "collapsed_sections": [],
      "include_colab_link": true
    },
    "kernelspec": {
      "name": "python3",
      "display_name": "Python 3"
    },
    "language_info": {
      "name": "python"
    },
    "accelerator": "GPU"
  },
  "cells": [
    {
      "cell_type": "markdown",
      "metadata": {
        "id": "view-in-github",
        "colab_type": "text"
      },
      "source": [
        "<a href=\"https://colab.research.google.com/github/mkleshchenok/mlbookcamp-code/blob/master/course-zoomcamp/08-deep-learning/homework_week_8.ipynb\" target=\"_parent\"><img src=\"https://colab.research.google.com/assets/colab-badge.svg\" alt=\"Open In Colab\"/></a>"
      ]
    },
    {
      "cell_type": "code",
      "metadata": {
        "id": "C-CoorNk74Kf"
      },
      "source": [
        "import shutil\n",
        "import os\n",
        "\n",
        "import numpy as np\n",
        "import matplotlib.pyplot as plt\n",
        "\n",
        "import tensorflow as tf\n",
        "from tensorflow import keras\n",
        "from tensorflow.keras.applications.xception import Xception, preprocess_input, decode_predictions\n",
        "from tensorflow.keras.layers import Conv2D, Dense, Dropout, Flatten, MaxPooling2D\n",
        "from tensorflow.keras.preprocessing.image import load_img, ImageDataGenerator\n",
        "\n",
        "%matplotlib inline"
      ],
      "execution_count": 1,
      "outputs": []
    },
    {
      "cell_type": "code",
      "metadata": {
        "id": "RQunq80Fwz8e"
      },
      "source": [
        "data_path = \"/content/dogs_and_cats\"\n",
        "\n",
        "raw_path = f\"{data_path}/raw_data\"\n",
        "train_path = f\"{data_path}/train\"\n",
        "validation_path = f\"{data_path}/validation\"\n"
      ],
      "execution_count": 3,
      "outputs": []
    },
    {
      "cell_type": "code",
      "metadata": {
        "id": "qF_yiWjS7IPR"
      },
      "source": [
        "os.mkdir(data_path)\n",
        "os.mkdir(raw_path)\n",
        "\n",
        "!wget https://github.com/alexeygrigorev/large-datasets/releases/download/dogs-cats/train.zip\n",
        "!unzip /content/train.zip -d /content/dogs_and_cats/raw_data\n",
        "!rm -r /content/train.zip"
      ],
      "execution_count": null,
      "outputs": []
    },
    {
      "cell_type": "code",
      "metadata": {
        "colab": {
          "base_uri": "https://localhost:8080/"
        },
        "id": "LUetRvGxw0Bk",
        "outputId": "b482df32-1460-4890-cee0-ee79d2c1ff27"
      },
      "source": [
        "def create_train_and_validate_directories():\n",
        "  os.mkdir(train_path)\n",
        "  os.mkdir(validation_path)\n",
        "  os.mkdir(f\"{train_path}/cats\")\n",
        "  os.mkdir(f\"{train_path}/dogs\")\n",
        "  os.mkdir(f\"{validation_path}/cats\")\n",
        "  os.mkdir(f\"{validation_path}/dogs\")\n",
        "\n",
        "\n",
        "# script to split training and validation data and move it into the corresponding directories\n",
        "def split_raw_data_to_test_and_train():\n",
        "  for n in range(0, 10000):\n",
        "      shutil.move(f\"{raw_path}/train/cat.{n}.jpg\", f\"{train_path}/cats\")\n",
        "      shutil.move(f\"{raw_path}/train/dog.{n}.jpg\", f\"{train_path}/dogs\")\n",
        "  for n in range(10000, 12500):\n",
        "      shutil.move(f\"{raw_path}/train/cat.{n}.jpg\", f\"{validation_path}/cats\")\n",
        "      shutil.move(f\"{raw_path}/train/dog.{n}.jpg\", f\"{validation_path}/dogs\")\n",
        "  print(\"done\")\n",
        "\n",
        "create_train_and_validate_directories()\n",
        "split_raw_data_to_test_and_train()"
      ],
      "execution_count": 5,
      "outputs": [
        {
          "output_type": "stream",
          "name": "stdout",
          "text": [
            "done\n"
          ]
        }
      ]
    },
    {
      "cell_type": "code",
      "metadata": {
        "id": "JWbPrXOfCeNy"
      },
      "source": [
        "def make_model(input_shape=(150, 150, 3), \n",
        "               filters=32, \n",
        "               kernel_size=(3, 3),\n",
        "               pooling_size=(2, 2), \n",
        "               learning_rate=0.002, \n",
        "               size_inner=64,\n",
        "               dropout=0.5,\n",
        "               momentum=0.8):\n",
        "    base_model = tf.keras.models.Sequential()\n",
        "    Xception(\n",
        "        weights='imagenet',\n",
        "        include_top=False,\n",
        "        input_shape=input_shape\n",
        "    )\n",
        "    base_model.trainable = False\n",
        "    inputs = keras.Input(shape=input_shape)\n",
        "    base = base_model(inputs, training=False)\n",
        "    conv = Conv2D(\n",
        "      filters,\n",
        "      kernel_size,\n",
        "      activation='relu', \n",
        "      input_shape=input_shape\n",
        "    )(base)\n",
        "    pooling = MaxPooling2D(\n",
        "        pool_size=pooling_size,\n",
        "        input_shape=input_shape\n",
        "    )(conv)\n",
        "    vectors = Flatten()(pooling)\n",
        "    inner = Dense(size_inner, activation='relu')(vectors)\n",
        "    drop = Dropout(dropout)(inner)\n",
        "    outputs = Dense(1, activation='sigmoid')(drop)\n",
        "    model = keras.Model(inputs, outputs)\n",
        "    optimizer = keras.optimizers.SGD(learning_rate=learning_rate, momentum=momentum)\n",
        "    loss = keras.losses.BinaryCrossentropy()\n",
        "    model.compile(\n",
        "        optimizer=optimizer,\n",
        "        loss=loss,\n",
        "        metrics=['accuracy']\n",
        "    )\n",
        "    return model"
      ],
      "execution_count": 7,
      "outputs": []
    },
    {
      "cell_type": "code",
      "metadata": {
        "id": "oZsrONrjw0Q4"
      },
      "source": [
        "input_shape = (150, 150, 3)\n",
        "filter = 32\n",
        "kernel_size = (3, 3)\n",
        "pooling_size = (2, 2)\n",
        "learning_rate = 0.002\n",
        "size_inner = 64\n",
        "dropout = 0.5\n",
        "momentum = 0.8"
      ],
      "execution_count": 8,
      "outputs": []
    },
    {
      "cell_type": "code",
      "metadata": {
        "colab": {
          "base_uri": "https://localhost:8080/"
        },
        "id": "3pQxLEX5A5I7",
        "outputId": "dc352c57-9ba3-4047-c354-59376aff1e16"
      },
      "source": [
        "model = make_model(input_shape, filter, kernel_size, pooling_size, learning_rate, size_inner, dropout, momentum)"
      ],
      "execution_count": 9,
      "outputs": [
        {
          "output_type": "stream",
          "name": "stdout",
          "text": [
            "Downloading data from https://storage.googleapis.com/tensorflow/keras-applications/xception/xception_weights_tf_dim_ordering_tf_kernels_notop.h5\n",
            "83689472/83683744 [==============================] - 1s 0us/step\n",
            "83697664/83683744 [==============================] - 1s 0us/step\n"
          ]
        }
      ]
    },
    {
      "cell_type": "code",
      "metadata": {
        "colab": {
          "base_uri": "https://localhost:8080/"
        },
        "id": "ISLJKK_8GE7l",
        "outputId": "c5b08ed8-72d7-4ccf-d0fb-df3bc0fa7ea0"
      },
      "source": [
        "model.summary()"
      ],
      "execution_count": 10,
      "outputs": [
        {
          "output_type": "stream",
          "name": "stdout",
          "text": [
            "Model: \"model\"\n",
            "_________________________________________________________________\n",
            " Layer (type)                Output Shape              Param #   \n",
            "=================================================================\n",
            " input_2 (InputLayer)        [(None, 150, 150, 3)]     0         \n",
            "                                                                 \n",
            " sequential (Sequential)     multiple                  0         \n",
            "                                                                 \n",
            " conv2d_4 (Conv2D)           (None, 148, 148, 32)      896       \n",
            "                                                                 \n",
            " max_pooling2d (MaxPooling2D  (None, 74, 74, 32)       0         \n",
            " )                                                               \n",
            "                                                                 \n",
            " flatten (Flatten)           (None, 175232)            0         \n",
            "                                                                 \n",
            " dense (Dense)               (None, 64)                11214912  \n",
            "                                                                 \n",
            " dropout (Dropout)           (None, 64)                0         \n",
            "                                                                 \n",
            " dense_1 (Dense)             (None, 1)                 65        \n",
            "                                                                 \n",
            "=================================================================\n",
            "Total params: 11,215,873\n",
            "Trainable params: 11,215,873\n",
            "Non-trainable params: 0\n",
            "_________________________________________________________________\n"
          ]
        }
      ]
    },
    {
      "cell_type": "code",
      "metadata": {
        "colab": {
          "base_uri": "https://localhost:8080/"
        },
        "id": "2pFwOGPzGE15",
        "outputId": "d2c5d4c3-7f9f-4e17-9413-2cf9ad204daf"
      },
      "source": [
        "train_generator = ImageDataGenerator(rescale=1./255)\n",
        "\n",
        "train_ds = train_generator.flow_from_directory(\n",
        "    train_path,\n",
        "    target_size=(150, 150),\n",
        "    batch_size=20,\n",
        "    class_mode='binary',\n",
        "    shuffle=True\n",
        ")"
      ],
      "execution_count": 15,
      "outputs": [
        {
          "output_type": "stream",
          "name": "stdout",
          "text": [
            "Found 20000 images belonging to 2 classes.\n"
          ]
        }
      ]
    },
    {
      "cell_type": "code",
      "metadata": {
        "colab": {
          "base_uri": "https://localhost:8080/"
        },
        "id": "pBf8Yf9tGE5U",
        "outputId": "b5197d21-1803-4ce9-f8ed-074a36cab831"
      },
      "source": [
        "validation_generator = ImageDataGenerator(rescale=1./255)\n",
        "\n",
        "val_ds = validation_generator.flow_from_directory(\n",
        "    validation_path,\n",
        "    target_size=(150, 150),\n",
        "    batch_size=20,\n",
        "    class_mode='binary',\n",
        "    shuffle=True\n",
        ")"
      ],
      "execution_count": 16,
      "outputs": [
        {
          "output_type": "stream",
          "name": "stdout",
          "text": [
            "Found 5000 images belonging to 2 classes.\n"
          ]
        }
      ]
    },
    {
      "cell_type": "code",
      "metadata": {
        "colab": {
          "base_uri": "https://localhost:8080/"
        },
        "id": "9kwtJYAUGFCc",
        "outputId": "36ad6c79-856c-4045-b58e-ba936e093a0c"
      },
      "source": [
        "%%time\n",
        "\n",
        "history = model.fit(\n",
        "    train_ds,\n",
        "    steps_per_epoch=100,\n",
        "    epochs=10,\n",
        "    validation_data=val_ds,\n",
        "    validation_steps=50\n",
        ")"
      ],
      "execution_count": 17,
      "outputs": [
        {
          "output_type": "stream",
          "name": "stdout",
          "text": [
            "Epoch 1/10\n",
            "100/100 [==============================] - 43s 129ms/step - loss: 0.7010 - accuracy: 0.5130 - val_loss: 0.6922 - val_accuracy: 0.5400\n",
            "Epoch 2/10\n",
            "100/100 [==============================] - 13s 126ms/step - loss: 0.6935 - accuracy: 0.5045 - val_loss: 0.6927 - val_accuracy: 0.5170\n",
            "Epoch 3/10\n",
            "100/100 [==============================] - 11s 106ms/step - loss: 0.6923 - accuracy: 0.5250 - val_loss: 0.6953 - val_accuracy: 0.4730\n",
            "Epoch 4/10\n",
            "100/100 [==============================] - 11s 107ms/step - loss: 0.6936 - accuracy: 0.5050 - val_loss: 0.6915 - val_accuracy: 0.5580\n",
            "Epoch 5/10\n",
            "100/100 [==============================] - 13s 126ms/step - loss: 0.6919 - accuracy: 0.5285 - val_loss: 0.6878 - val_accuracy: 0.6130\n",
            "Epoch 6/10\n",
            "100/100 [==============================] - 12s 124ms/step - loss: 0.6924 - accuracy: 0.5165 - val_loss: 0.6880 - val_accuracy: 0.5780\n",
            "Epoch 7/10\n",
            "100/100 [==============================] - 11s 106ms/step - loss: 0.6880 - accuracy: 0.5310 - val_loss: 0.6891 - val_accuracy: 0.5460\n",
            "Epoch 8/10\n",
            "100/100 [==============================] - 11s 106ms/step - loss: 0.6840 - accuracy: 0.5465 - val_loss: 0.6799 - val_accuracy: 0.6110\n",
            "Epoch 9/10\n",
            "100/100 [==============================] - 10s 105ms/step - loss: 0.6824 - accuracy: 0.5700 - val_loss: 0.6711 - val_accuracy: 0.6160\n",
            "Epoch 10/10\n",
            "100/100 [==============================] - 12s 124ms/step - loss: 0.6833 - accuracy: 0.5575 - val_loss: 0.6788 - val_accuracy: 0.5790\n",
            "CPU times: user 2min 4s, sys: 5.73 s, total: 2min 10s\n",
            "Wall time: 3min 41s\n"
          ]
        }
      ]
    },
    {
      "cell_type": "code",
      "metadata": {
        "id": "wqq6e62Km9gy",
        "outputId": "85f33d61-dbd6-41bf-bfde-65c091db2352",
        "colab": {
          "base_uri": "https://localhost:8080/"
        }
      },
      "source": [
        "np.median(history.history[\"accuracy\"])"
      ],
      "execution_count": 20,
      "outputs": [
        {
          "output_type": "execute_result",
          "data": {
            "text/plain": [
              "0.52674999833107"
            ]
          },
          "metadata": {},
          "execution_count": 20
        }
      ]
    },
    {
      "cell_type": "code",
      "metadata": {
        "id": "wu_GayaTnJn7",
        "outputId": "d6203359-f9f6-4715-ae90-6f90e25f1df9",
        "colab": {
          "base_uri": "https://localhost:8080/"
        }
      },
      "source": [
        "np.std(history.history[\"loss\"], ddof=1)"
      ],
      "execution_count": 29,
      "outputs": [
        {
          "output_type": "execute_result",
          "data": {
            "text/plain": [
              "0.005792479300661534"
            ]
          },
          "metadata": {},
          "execution_count": 29
        }
      ]
    },
    {
      "cell_type": "code",
      "metadata": {
        "colab": {
          "base_uri": "https://localhost:8080/",
          "height": 282
        },
        "id": "VTNFxaOIvgZj",
        "outputId": "88f2ce5a-93eb-433b-ec62-986c4d1cbd80"
      },
      "source": [
        "plt.plot(history.history['accuracy'], label='train')\n",
        "plt.plot(history.history['val_accuracy'], label='val')\n",
        "plt.xticks(np.arange(10))\n",
        "plt.legend()"
      ],
      "execution_count": 27,
      "outputs": [
        {
          "output_type": "execute_result",
          "data": {
            "text/plain": [
              "<matplotlib.legend.Legend at 0x7f13a8211510>"
            ]
          },
          "metadata": {},
          "execution_count": 27
        },
        {
          "output_type": "display_data",
          "data": {
            "image/png": "[encoded data removed]",
            "text/plain": [
              "<Figure size 432x288 with 1 Axes>"
            ]
          },
          "metadata": {
            "needs_background": "light"
          }
        }
      ]
    },
    {
      "cell_type": "code",
      "metadata": {
        "colab": {
          "base_uri": "https://localhost:8080/"
        },
        "id": "aIp1Wwjcw0sD",
        "outputId": "99f188af-97a5-49c2-9461-f3da292710d6"
      },
      "source": [
        "train_generator_2 = ImageDataGenerator(\n",
        "    rescale=1./255,\n",
        "    rotation_range=40,\n",
        "    width_shift_range=0.2,\n",
        "    height_shift_range=0.2,\n",
        "    shear_range=0.2,\n",
        "    zoom_range=0.2,\n",
        "    horizontal_flip=True,\n",
        "    fill_mode='nearest'\n",
        ")\n",
        "\n",
        "train_ds_2 = train_generator_2.flow_from_directory(\n",
        "    train_path,\n",
        "    target_size=(150, 150),\n",
        "    batch_size=20,\n",
        "    class_mode='binary'\n",
        ")"
      ],
      "execution_count": 30,
      "outputs": [
        {
          "output_type": "stream",
          "name": "stdout",
          "text": [
            "Found 20000 images belonging to 2 classes.\n"
          ]
        }
      ]
    },
    {
      "cell_type": "code",
      "metadata": {
        "colab": {
          "base_uri": "https://localhost:8080/"
        },
        "id": "YDS-wusNw03f",
        "outputId": "6b08f31e-ac9f-4250-bfee-51a086920a7c"
      },
      "source": [
        "validation_generator_2 = ImageDataGenerator(\n",
        "    rescale=1./255,\n",
        "    rotation_range=40,\n",
        "    width_shift_range=0.2,\n",
        "    height_shift_range=0.2,\n",
        "    shear_range=0.2,\n",
        "    zoom_range=0.2,\n",
        "    horizontal_flip=True,\n",
        "    fill_mode='nearest'\n",
        ")\n",
        "\n",
        "val_ds_2 = validation_generator_2.flow_from_directory(\n",
        "    validation_path,\n",
        "    target_size=(150, 150),\n",
        "    batch_size=20,\n",
        "    class_mode='binary'\n",
        ")"
      ],
      "execution_count": 31,
      "outputs": [
        {
          "output_type": "stream",
          "name": "stdout",
          "text": [
            "Found 5000 images belonging to 2 classes.\n"
          ]
        }
      ]
    },
    {
      "cell_type": "code",
      "metadata": {
        "colab": {
          "base_uri": "https://localhost:8080/"
        },
        "id": "UTEdy4tBw0_z",
        "outputId": "3060a535-a837-4cf1-b69d-2f3aa07cc9db"
      },
      "source": [
        "%%time\n",
        "\n",
        "history_2 = model.fit(\n",
        "    train_ds_2,\n",
        "    steps_per_epoch=100,\n",
        "    epochs=10,\n",
        "    validation_data=val_ds_2,\n",
        "    validation_steps=50\n",
        ")"
      ],
      "execution_count": 32,
      "outputs": [
        {
          "output_type": "stream",
          "name": "stdout",
          "text": [
            "Epoch 1/10\n",
            "100/100 [==============================] - 25s 255ms/step - loss: 0.6867 - accuracy: 0.5450 - val_loss: 0.6826 - val_accuracy: 0.5540\n",
            "Epoch 2/10\n",
            "100/100 [==============================] - 25s 250ms/step - loss: 0.6862 - accuracy: 0.5415 - val_loss: 0.6794 - val_accuracy: 0.5750\n",
            "Epoch 3/10\n",
            "100/100 [==============================] - 25s 248ms/step - loss: 0.6842 - accuracy: 0.5525 - val_loss: 0.6817 - val_accuracy: 0.5810\n",
            "Epoch 4/10\n",
            "100/100 [==============================] - 27s 273ms/step - loss: 0.6882 - accuracy: 0.5485 - val_loss: 0.6846 - val_accuracy: 0.5830\n",
            "Epoch 5/10\n",
            "100/100 [==============================] - 25s 252ms/step - loss: 0.6839 - accuracy: 0.5590 - val_loss: 0.6845 - val_accuracy: 0.5470\n",
            "Epoch 6/10\n",
            "100/100 [==============================] - 25s 252ms/step - loss: 0.6850 - accuracy: 0.5530 - val_loss: 0.6825 - val_accuracy: 0.5850\n",
            "Epoch 7/10\n",
            "100/100 [==============================] - 25s 255ms/step - loss: 0.6792 - accuracy: 0.5610 - val_loss: 0.6757 - val_accuracy: 0.5670\n",
            "Epoch 8/10\n",
            "100/100 [==============================] - 25s 254ms/step - loss: 0.6857 - accuracy: 0.5465 - val_loss: 0.6721 - val_accuracy: 0.6060\n",
            "Epoch 9/10\n",
            "100/100 [==============================] - 25s 250ms/step - loss: 0.6784 - accuracy: 0.5615 - val_loss: 0.6709 - val_accuracy: 0.5990\n",
            "Epoch 10/10\n",
            "100/100 [==============================] - 25s 251ms/step - loss: 0.6777 - accuracy: 0.5655 - val_loss: 0.6665 - val_accuracy: 0.6230\n",
            "CPU times: user 4min 30s, sys: 5.11 s, total: 4min 36s\n",
            "Wall time: 5min 46s\n"
          ]
        }
      ]
    },
    {
      "cell_type": "code",
      "metadata": {
        "id": "lpEBXiu1pST7",
        "outputId": "677cb5f7-d2fc-42c1-dbc7-f72e490413ff",
        "colab": {
          "base_uri": "https://localhost:8080/"
        }
      },
      "source": [
        "np.mean(history.history[\"val_loss\"])"
      ],
      "execution_count": 33,
      "outputs": [
        {
          "output_type": "execute_result",
          "data": {
            "text/plain": [
              "0.6866560399532318"
            ]
          },
          "metadata": {},
          "execution_count": 33
        }
      ]
    },
    {
      "cell_type": "code",
      "metadata": {
        "id": "aEki0l8ppVwy",
        "outputId": "4637365b-6063-4b2b-d610-f66f78fcc67e",
        "colab": {
          "base_uri": "https://localhost:8080/"
        }
      },
      "source": [
        "np.mean(history.history[\"val_accuracy\"][-5:])"
      ],
      "execution_count": 40,
      "outputs": [
        {
          "output_type": "execute_result",
          "data": {
            "text/plain": [
              "0.5860000014305115"
            ]
          },
          "metadata": {},
          "execution_count": 40
        }
      ]
    },
    {
      "cell_type": "code",
      "metadata": {
        "id": "y7ULHuC6pYEJ"
      },
      "source": [
        ""
      ],
      "execution_count": null,
      "outputs": []
    }
  ]
}