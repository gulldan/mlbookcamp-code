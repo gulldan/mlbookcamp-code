{
  "nbformat": 4,
  "nbformat_minor": 5,
  "metadata": {
    "kernelspec": {
      "display_name": "Python 3 (ipykernel)",
      "language": "python",
      "name": "python3"
    },
    "language_info": {
      "codemirror_mode": {
        "name": "ipython",
        "version": 3
      },
      "file_extension": ".py",
      "mimetype": "text/x-python",
      "name": "python",
      "nbconvert_exporter": "python",
      "pygments_lexer": "ipython3",
      "version": "3.8.11"
    },
    "colab": {
      "name": "notebook.ipynb",
      "provenance": [],
      "include_colab_link": true
    }
  },
  "cells": [
    {
      "cell_type": "markdown",
      "metadata": {
        "id": "view-in-github",
        "colab_type": "text"
      },
      "source": [
        "<a href=\"https://colab.research.google.com/github/mkleshchenok/mlbookcamp-code/blob/master/course-zoomcamp/02-regression/hw-week2.ipynb\" target=\"_parent\"><img src=\"https://colab.research.google.com/assets/colab-badge.svg\" alt=\"Open In Colab\"/></a>"
      ]
    },
    {
      "cell_type": "code",
      "metadata": {
        "colab": {
          "base_uri": "https://localhost:8080/",
          "height": 34
        },
        "id": "3387bee7",
        "outputId": "9014d745-722b-4dcc-dc8c-621de41eca17"
      },
      "source": [
        "%autosave 0"
      ],
      "id": "3387bee7",
      "execution_count": 1,
      "outputs": [
        {
          "output_type": "display_data",
          "data": {
            "application/javascript": [
              "IPython.notebook.set_autosave_interval(0)"
            ]
          },
          "metadata": {}
        },
        {
          "output_type": "stream",
          "name": "stdout",
          "text": [
            "Autosave disabled\n"
          ]
        }
      ]
    },
    {
      "cell_type": "markdown",
      "metadata": {
        "id": "1dabc3e1"
      },
      "source": [
        "## 2. Machine Learning for Regression\n"
      ],
      "id": "1dabc3e1"
    },
    {
      "cell_type": "code",
      "metadata": {
        "scrolled": true,
        "id": "88fa23d1"
      },
      "source": [
        "import pandas as pd\n",
        "import numpy as np"
      ],
      "id": "88fa23d1",
      "execution_count": 2,
      "outputs": []
    },
    {
      "cell_type": "markdown",
      "metadata": {
        "id": "324e4904"
      },
      "source": [
        "## 2.2 Data preparation"
      ],
      "id": "324e4904"
    },
    {
      "cell_type": "code",
      "metadata": {
        "id": "0932bff5"
      },
      "source": [
        "data = 'https://raw.githubusercontent.com/alexeygrigorev/datasets/master/AB_NYC_2019.csv'"
      ],
      "id": "0932bff5",
      "execution_count": 3,
      "outputs": []
    },
    {
      "cell_type": "code",
      "metadata": {
        "colab": {
          "base_uri": "https://localhost:8080/"
        },
        "id": "22ca40d1",
        "outputId": "33e37bd3-6bc5-4a17-b084-2e87123ee20e"
      },
      "source": [
        "!wget $data "
      ],
      "id": "22ca40d1",
      "execution_count": 4,
      "outputs": [
        {
          "output_type": "stream",
          "name": "stdout",
          "text": [
            "--2021-09-19 12:19:11--  https://raw.githubusercontent.com/alexeygrigorev/datasets/master/AB_NYC_2019.csv\n",
            "Resolving raw.githubusercontent.com (raw.githubusercontent.com)... 185.199.110.133, 185.199.109.133, 185.199.108.133, ...\n",
            "Connecting to raw.githubusercontent.com (raw.githubusercontent.com)|185.199.110.133|:443... connected.\n",
            "HTTP request sent, awaiting response... 200 OK\n",
            "Length: 7077973 (6.8M) [text/plain]\n",
            "Saving to: ‘AB_NYC_2019.csv’\n",
            "\n",
            "AB_NYC_2019.csv     100%[===================>]   6.75M  --.-KB/s    in 0.07s   \n",
            "\n",
            "2021-09-19 12:19:12 (102 MB/s) - ‘AB_NYC_2019.csv’ saved [7077973/7077973]\n",
            "\n"
          ]
        }
      ]
    },
    {
      "cell_type": "code",
      "metadata": {
        "id": "60735823"
      },
      "source": [
        "df = pd.read_csv('AB_NYC_2019.csv')"
      ],
      "id": "60735823",
      "execution_count": 29,
      "outputs": []
    },
    {
      "cell_type": "code",
      "metadata": {
        "id": "1767d31a"
      },
      "source": [
        "df.columns = df.columns.str.lower().str.replace(' ', '_')"
      ],
      "id": "1767d31a",
      "execution_count": 40,
      "outputs": []
    },
    {
      "cell_type": "code",
      "metadata": {
        "colab": {
          "base_uri": "https://localhost:8080/",
          "height": 411
        },
        "id": "KzG5o6oi_5Gk",
        "outputId": "f29e1a94-c06a-4615-9be4-a3e81c6cf4af"
      },
      "source": [
        "df.head()"
      ],
      "id": "KzG5o6oi_5Gk",
      "execution_count": 41,
      "outputs": [
        {
          "output_type": "execute_result",
          "data": {
            "text/html": [
              "<div>\n",
              "<style scoped>\n",
              "    .dataframe tbody tr th:only-of-type {\n",
              "        vertical-align: middle;\n",
              "    }\n",
              "\n",
              "    .dataframe tbody tr th {\n",
              "        vertical-align: top;\n",
              "    }\n",
              "\n",
              "    .dataframe thead th {\n",
              "        text-align: right;\n",
              "    }\n",
              "</style>\n",
              "<table border=\"1\" class=\"dataframe\">\n",
              "  <thead>\n",
              "    <tr style=\"text-align: right;\">\n",
              "      <th></th>\n",
              "      <th>id</th>\n",
              "      <th>name</th>\n",
              "      <th>host_id</th>\n",
              "      <th>host_name</th>\n",
              "      <th>neighbourhood_group</th>\n",
              "      <th>neighbourhood</th>\n",
              "      <th>latitude</th>\n",
              "      <th>longitude</th>\n",
              "      <th>room_type</th>\n",
              "      <th>price</th>\n",
              "      <th>minimum_nights</th>\n",
              "      <th>number_of_reviews</th>\n",
              "      <th>last_review</th>\n",
              "      <th>reviews_per_month</th>\n",
              "      <th>calculated_host_listings_count</th>\n",
              "      <th>availability_365</th>\n",
              "    </tr>\n",
              "  </thead>\n",
              "  <tbody>\n",
              "    <tr>\n",
              "      <th>0</th>\n",
              "      <td>2539</td>\n",
              "      <td>Clean &amp; quiet apt home by the park</td>\n",
              "      <td>2787</td>\n",
              "      <td>John</td>\n",
              "      <td>Brooklyn</td>\n",
              "      <td>Kensington</td>\n",
              "      <td>40.64749</td>\n",
              "      <td>-73.97237</td>\n",
              "      <td>Private room</td>\n",
              "      <td>149</td>\n",
              "      <td>1</td>\n",
              "      <td>9</td>\n",
              "      <td>2018-10-19</td>\n",
              "      <td>0.21</td>\n",
              "      <td>6</td>\n",
              "      <td>365</td>\n",
              "    </tr>\n",
              "    <tr>\n",
              "      <th>1</th>\n",
              "      <td>2595</td>\n",
              "      <td>Skylit Midtown Castle</td>\n",
              "      <td>2845</td>\n",
              "      <td>Jennifer</td>\n",
              "      <td>Manhattan</td>\n",
              "      <td>Midtown</td>\n",
              "      <td>40.75362</td>\n",
              "      <td>-73.98377</td>\n",
              "      <td>Entire home/apt</td>\n",
              "      <td>225</td>\n",
              "      <td>1</td>\n",
              "      <td>45</td>\n",
              "      <td>2019-05-21</td>\n",
              "      <td>0.38</td>\n",
              "      <td>2</td>\n",
              "      <td>355</td>\n",
              "    </tr>\n",
              "    <tr>\n",
              "      <th>2</th>\n",
              "      <td>3647</td>\n",
              "      <td>THE VILLAGE OF HARLEM....NEW YORK !</td>\n",
              "      <td>4632</td>\n",
              "      <td>Elisabeth</td>\n",
              "      <td>Manhattan</td>\n",
              "      <td>Harlem</td>\n",
              "      <td>40.80902</td>\n",
              "      <td>-73.94190</td>\n",
              "      <td>Private room</td>\n",
              "      <td>150</td>\n",
              "      <td>3</td>\n",
              "      <td>0</td>\n",
              "      <td>NaN</td>\n",
              "      <td>NaN</td>\n",
              "      <td>1</td>\n",
              "      <td>365</td>\n",
              "    </tr>\n",
              "    <tr>\n",
              "      <th>3</th>\n",
              "      <td>3831</td>\n",
              "      <td>Cozy Entire Floor of Brownstone</td>\n",
              "      <td>4869</td>\n",
              "      <td>LisaRoxanne</td>\n",
              "      <td>Brooklyn</td>\n",
              "      <td>Clinton Hill</td>\n",
              "      <td>40.68514</td>\n",
              "      <td>-73.95976</td>\n",
              "      <td>Entire home/apt</td>\n",
              "      <td>89</td>\n",
              "      <td>1</td>\n",
              "      <td>270</td>\n",
              "      <td>2019-07-05</td>\n",
              "      <td>4.64</td>\n",
              "      <td>1</td>\n",
              "      <td>194</td>\n",
              "    </tr>\n",
              "    <tr>\n",
              "      <th>4</th>\n",
              "      <td>5022</td>\n",
              "      <td>Entire Apt: Spacious Studio/Loft by central park</td>\n",
              "      <td>7192</td>\n",
              "      <td>Laura</td>\n",
              "      <td>Manhattan</td>\n",
              "      <td>East Harlem</td>\n",
              "      <td>40.79851</td>\n",
              "      <td>-73.94399</td>\n",
              "      <td>Entire home/apt</td>\n",
              "      <td>80</td>\n",
              "      <td>10</td>\n",
              "      <td>9</td>\n",
              "      <td>2018-11-19</td>\n",
              "      <td>0.10</td>\n",
              "      <td>1</td>\n",
              "      <td>0</td>\n",
              "    </tr>\n",
              "  </tbody>\n",
              "</table>\n",
              "</div>"
            ],
            "text/plain": [
              "     id  ... availability_365\n",
              "0  2539  ...              365\n",
              "1  2595  ...              355\n",
              "2  3647  ...              365\n",
              "3  3831  ...              194\n",
              "4  5022  ...                0\n",
              "\n",
              "[5 rows x 16 columns]"
            ]
          },
          "metadata": {},
          "execution_count": 41
        }
      ]
    },
    {
      "cell_type": "code",
      "metadata": {
        "id": "072c48d8"
      },
      "source": [
        "for col in strings:\n",
        "    df[col] = df[col].str.lower().str.replace(' ', '_')"
      ],
      "id": "072c48d8",
      "execution_count": 42,
      "outputs": []
    },
    {
      "cell_type": "code",
      "metadata": {
        "colab": {
          "base_uri": "https://localhost:8080/"
        },
        "id": "442cc0e5",
        "outputId": "cd547c2e-a0b0-4ffb-a2ba-65eb7143704a"
      },
      "source": [
        "df.dtypes"
      ],
      "id": "442cc0e5",
      "execution_count": 43,
      "outputs": [
        {
          "output_type": "execute_result",
          "data": {
            "text/plain": [
              "id                                  int64\n",
              "name                               object\n",
              "host_id                             int64\n",
              "host_name                          object\n",
              "neighbourhood_group                object\n",
              "neighbourhood                      object\n",
              "latitude                          float64\n",
              "longitude                         float64\n",
              "room_type                          object\n",
              "price                               int64\n",
              "minimum_nights                      int64\n",
              "number_of_reviews                   int64\n",
              "last_review                        object\n",
              "reviews_per_month                 float64\n",
              "calculated_host_listings_count      int64\n",
              "availability_365                    int64\n",
              "dtype: object"
            ]
          },
          "metadata": {},
          "execution_count": 43
        }
      ]
    },
    {
      "cell_type": "markdown",
      "metadata": {
        "id": "d4a58ec3"
      },
      "source": [
        "## 2.3 Exploratory data analysis"
      ],
      "id": "d4a58ec3"
    },
    {
      "cell_type": "code",
      "metadata": {
        "colab": {
          "base_uri": "https://localhost:8080/"
        },
        "id": "a52bb821",
        "outputId": "25bfb4dd-d838-4326-eced-0f792c159444"
      },
      "source": [
        "for col in df.columns:\n",
        "    print(col)\n",
        "    print(df[col].unique()[:5])\n",
        "    print(df[col].nunique())\n",
        "    print()"
      ],
      "id": "a52bb821",
      "execution_count": 44,
      "outputs": [
        {
          "output_type": "stream",
          "name": "stdout",
          "text": [
            "id\n",
            "[2539 2595 3647 3831 5022]\n",
            "48895\n",
            "\n",
            "name\n",
            "['clean_&_quiet_apt_home_by_the_park' 'skylit_midtown_castle'\n",
            " 'the_village_of_harlem....new_york_!' 'cozy_entire_floor_of_brownstone'\n",
            " 'entire_apt:_spacious_studio/loft_by_central_park']\n",
            "47486\n",
            "\n",
            "host_id\n",
            "[2787 2845 4632 4869 7192]\n",
            "37457\n",
            "\n",
            "host_name\n",
            "['john' 'jennifer' 'elisabeth' 'lisaroxanne' 'laura']\n",
            "11428\n",
            "\n",
            "neighbourhood_group\n",
            "['brooklyn' 'manhattan' 'queens' 'staten_island' 'bronx']\n",
            "5\n",
            "\n",
            "neighbourhood\n",
            "['kensington' 'midtown' 'harlem' 'clinton_hill' 'east_harlem']\n",
            "221\n",
            "\n",
            "latitude\n",
            "[40.64749 40.75362 40.80902 40.68514 40.79851]\n",
            "19048\n",
            "\n",
            "longitude\n",
            "[-73.97237 -73.98377 -73.9419  -73.95976 -73.94399]\n",
            "14718\n",
            "\n",
            "room_type\n",
            "['private_room' 'entire_home/apt' 'shared_room']\n",
            "3\n",
            "\n",
            "price\n",
            "[149 225 150  89  80]\n",
            "674\n",
            "\n",
            "minimum_nights\n",
            "[ 1  3 10 45  2]\n",
            "109\n",
            "\n",
            "number_of_reviews\n",
            "[  9  45   0 270  74]\n",
            "394\n",
            "\n",
            "last_review\n",
            "['2018-10-19' '2019-05-21' nan '2019-07-05' '2018-11-19']\n",
            "1764\n",
            "\n",
            "reviews_per_month\n",
            "[0.21 0.38  nan 4.64 0.1 ]\n",
            "937\n",
            "\n",
            "calculated_host_listings_count\n",
            "[6 2 1 4 3]\n",
            "47\n",
            "\n",
            "availability_365\n",
            "[365 355 194   0 129]\n",
            "366\n",
            "\n"
          ]
        }
      ]
    },
    {
      "cell_type": "code",
      "metadata": {
        "colab": {
          "base_uri": "https://localhost:8080/",
          "height": 456
        },
        "id": "3fea9ab8",
        "outputId": "c6908f4a-710c-4d55-adfc-c228e052bb23"
      },
      "source": [
        "df"
      ],
      "id": "3fea9ab8",
      "execution_count": 45,
      "outputs": [
        {
          "output_type": "execute_result",
          "data": {
            "text/html": [
              "<div>\n",
              "<style scoped>\n",
              "    .dataframe tbody tr th:only-of-type {\n",
              "        vertical-align: middle;\n",
              "    }\n",
              "\n",
              "    .dataframe tbody tr th {\n",
              "        vertical-align: top;\n",
              "    }\n",
              "\n",
              "    .dataframe thead th {\n",
              "        text-align: right;\n",
              "    }\n",
              "</style>\n",
              "<table border=\"1\" class=\"dataframe\">\n",
              "  <thead>\n",
              "    <tr style=\"text-align: right;\">\n",
              "      <th></th>\n",
              "      <th>id</th>\n",
              "      <th>name</th>\n",
              "      <th>host_id</th>\n",
              "      <th>host_name</th>\n",
              "      <th>neighbourhood_group</th>\n",
              "      <th>neighbourhood</th>\n",
              "      <th>latitude</th>\n",
              "      <th>longitude</th>\n",
              "      <th>room_type</th>\n",
              "      <th>price</th>\n",
              "      <th>minimum_nights</th>\n",
              "      <th>number_of_reviews</th>\n",
              "      <th>last_review</th>\n",
              "      <th>reviews_per_month</th>\n",
              "      <th>calculated_host_listings_count</th>\n",
              "      <th>availability_365</th>\n",
              "    </tr>\n",
              "  </thead>\n",
              "  <tbody>\n",
              "    <tr>\n",
              "      <th>0</th>\n",
              "      <td>2539</td>\n",
              "      <td>clean_&amp;_quiet_apt_home_by_the_park</td>\n",
              "      <td>2787</td>\n",
              "      <td>john</td>\n",
              "      <td>brooklyn</td>\n",
              "      <td>kensington</td>\n",
              "      <td>40.64749</td>\n",
              "      <td>-73.97237</td>\n",
              "      <td>private_room</td>\n",
              "      <td>149</td>\n",
              "      <td>1</td>\n",
              "      <td>9</td>\n",
              "      <td>2018-10-19</td>\n",
              "      <td>0.21</td>\n",
              "      <td>6</td>\n",
              "      <td>365</td>\n",
              "    </tr>\n",
              "    <tr>\n",
              "      <th>1</th>\n",
              "      <td>2595</td>\n",
              "      <td>skylit_midtown_castle</td>\n",
              "      <td>2845</td>\n",
              "      <td>jennifer</td>\n",
              "      <td>manhattan</td>\n",
              "      <td>midtown</td>\n",
              "      <td>40.75362</td>\n",
              "      <td>-73.98377</td>\n",
              "      <td>entire_home/apt</td>\n",
              "      <td>225</td>\n",
              "      <td>1</td>\n",
              "      <td>45</td>\n",
              "      <td>2019-05-21</td>\n",
              "      <td>0.38</td>\n",
              "      <td>2</td>\n",
              "      <td>355</td>\n",
              "    </tr>\n",
              "    <tr>\n",
              "      <th>2</th>\n",
              "      <td>3647</td>\n",
              "      <td>the_village_of_harlem....new_york_!</td>\n",
              "      <td>4632</td>\n",
              "      <td>elisabeth</td>\n",
              "      <td>manhattan</td>\n",
              "      <td>harlem</td>\n",
              "      <td>40.80902</td>\n",
              "      <td>-73.94190</td>\n",
              "      <td>private_room</td>\n",
              "      <td>150</td>\n",
              "      <td>3</td>\n",
              "      <td>0</td>\n",
              "      <td>NaN</td>\n",
              "      <td>NaN</td>\n",
              "      <td>1</td>\n",
              "      <td>365</td>\n",
              "    </tr>\n",
              "    <tr>\n",
              "      <th>3</th>\n",
              "      <td>3831</td>\n",
              "      <td>cozy_entire_floor_of_brownstone</td>\n",
              "      <td>4869</td>\n",
              "      <td>lisaroxanne</td>\n",
              "      <td>brooklyn</td>\n",
              "      <td>clinton_hill</td>\n",
              "      <td>40.68514</td>\n",
              "      <td>-73.95976</td>\n",
              "      <td>entire_home/apt</td>\n",
              "      <td>89</td>\n",
              "      <td>1</td>\n",
              "      <td>270</td>\n",
              "      <td>2019-07-05</td>\n",
              "      <td>4.64</td>\n",
              "      <td>1</td>\n",
              "      <td>194</td>\n",
              "    </tr>\n",
              "    <tr>\n",
              "      <th>4</th>\n",
              "      <td>5022</td>\n",
              "      <td>entire_apt:_spacious_studio/loft_by_central_park</td>\n",
              "      <td>7192</td>\n",
              "      <td>laura</td>\n",
              "      <td>manhattan</td>\n",
              "      <td>east_harlem</td>\n",
              "      <td>40.79851</td>\n",
              "      <td>-73.94399</td>\n",
              "      <td>entire_home/apt</td>\n",
              "      <td>80</td>\n",
              "      <td>10</td>\n",
              "      <td>9</td>\n",
              "      <td>2018-11-19</td>\n",
              "      <td>0.10</td>\n",
              "      <td>1</td>\n",
              "      <td>0</td>\n",
              "    </tr>\n",
              "    <tr>\n",
              "      <th>...</th>\n",
              "      <td>...</td>\n",
              "      <td>...</td>\n",
              "      <td>...</td>\n",
              "      <td>...</td>\n",
              "      <td>...</td>\n",
              "      <td>...</td>\n",
              "      <td>...</td>\n",
              "      <td>...</td>\n",
              "      <td>...</td>\n",
              "      <td>...</td>\n",
              "      <td>...</td>\n",
              "      <td>...</td>\n",
              "      <td>...</td>\n",
              "      <td>...</td>\n",
              "      <td>...</td>\n",
              "      <td>...</td>\n",
              "    </tr>\n",
              "    <tr>\n",
              "      <th>48890</th>\n",
              "      <td>36484665</td>\n",
              "      <td>charming_one_bedroom_-_newly_renovated_rowhouse</td>\n",
              "      <td>8232441</td>\n",
              "      <td>sabrina</td>\n",
              "      <td>brooklyn</td>\n",
              "      <td>bedford-stuyvesant</td>\n",
              "      <td>40.67853</td>\n",
              "      <td>-73.94995</td>\n",
              "      <td>private_room</td>\n",
              "      <td>70</td>\n",
              "      <td>2</td>\n",
              "      <td>0</td>\n",
              "      <td>NaN</td>\n",
              "      <td>NaN</td>\n",
              "      <td>2</td>\n",
              "      <td>9</td>\n",
              "    </tr>\n",
              "    <tr>\n",
              "      <th>48891</th>\n",
              "      <td>36485057</td>\n",
              "      <td>affordable_room_in_bushwick/east_williamsburg</td>\n",
              "      <td>6570630</td>\n",
              "      <td>marisol</td>\n",
              "      <td>brooklyn</td>\n",
              "      <td>bushwick</td>\n",
              "      <td>40.70184</td>\n",
              "      <td>-73.93317</td>\n",
              "      <td>private_room</td>\n",
              "      <td>40</td>\n",
              "      <td>4</td>\n",
              "      <td>0</td>\n",
              "      <td>NaN</td>\n",
              "      <td>NaN</td>\n",
              "      <td>2</td>\n",
              "      <td>36</td>\n",
              "    </tr>\n",
              "    <tr>\n",
              "      <th>48892</th>\n",
              "      <td>36485431</td>\n",
              "      <td>sunny_studio_at_historical_neighborhood</td>\n",
              "      <td>23492952</td>\n",
              "      <td>ilgar_&amp;_aysel</td>\n",
              "      <td>manhattan</td>\n",
              "      <td>harlem</td>\n",
              "      <td>40.81475</td>\n",
              "      <td>-73.94867</td>\n",
              "      <td>entire_home/apt</td>\n",
              "      <td>115</td>\n",
              "      <td>10</td>\n",
              "      <td>0</td>\n",
              "      <td>NaN</td>\n",
              "      <td>NaN</td>\n",
              "      <td>1</td>\n",
              "      <td>27</td>\n",
              "    </tr>\n",
              "    <tr>\n",
              "      <th>48893</th>\n",
              "      <td>36485609</td>\n",
              "      <td>43rd_st._time_square-cozy_single_bed</td>\n",
              "      <td>30985759</td>\n",
              "      <td>taz</td>\n",
              "      <td>manhattan</td>\n",
              "      <td>hell's_kitchen</td>\n",
              "      <td>40.75751</td>\n",
              "      <td>-73.99112</td>\n",
              "      <td>shared_room</td>\n",
              "      <td>55</td>\n",
              "      <td>1</td>\n",
              "      <td>0</td>\n",
              "      <td>NaN</td>\n",
              "      <td>NaN</td>\n",
              "      <td>6</td>\n",
              "      <td>2</td>\n",
              "    </tr>\n",
              "    <tr>\n",
              "      <th>48894</th>\n",
              "      <td>36487245</td>\n",
              "      <td>trendy_duplex_in_the_very_heart_of_hell's_kitchen</td>\n",
              "      <td>68119814</td>\n",
              "      <td>christophe</td>\n",
              "      <td>manhattan</td>\n",
              "      <td>hell's_kitchen</td>\n",
              "      <td>40.76404</td>\n",
              "      <td>-73.98933</td>\n",
              "      <td>private_room</td>\n",
              "      <td>90</td>\n",
              "      <td>7</td>\n",
              "      <td>0</td>\n",
              "      <td>NaN</td>\n",
              "      <td>NaN</td>\n",
              "      <td>1</td>\n",
              "      <td>23</td>\n",
              "    </tr>\n",
              "  </tbody>\n",
              "</table>\n",
              "<p>48895 rows × 16 columns</p>\n",
              "</div>"
            ],
            "text/plain": [
              "             id  ... availability_365\n",
              "0          2539  ...              365\n",
              "1          2595  ...              355\n",
              "2          3647  ...              365\n",
              "3          3831  ...              194\n",
              "4          5022  ...                0\n",
              "...         ...  ...              ...\n",
              "48890  36484665  ...                9\n",
              "48891  36485057  ...               36\n",
              "48892  36485431  ...               27\n",
              "48893  36485609  ...                2\n",
              "48894  36487245  ...               23\n",
              "\n",
              "[48895 rows x 16 columns]"
            ]
          },
          "metadata": {},
          "execution_count": 45
        }
      ]
    },
    {
      "cell_type": "markdown",
      "metadata": {
        "id": "ecd4ec19"
      },
      "source": [
        "Distribution of price"
      ],
      "id": "ecd4ec19"
    },
    {
      "cell_type": "code",
      "metadata": {
        "id": "8990ba9f"
      },
      "source": [
        "import matplotlib.pyplot as plt\n",
        "import seaborn as sns\n",
        "\n",
        "%matplotlib inline"
      ],
      "id": "8990ba9f",
      "execution_count": 46,
      "outputs": []
    },
    {
      "cell_type": "markdown",
      "metadata": {
        "id": "V-sFXEHUFz3_"
      },
      "source": [
        "Look at the price variable. Does it have a long tail?"
      ],
      "id": "V-sFXEHUFz3_"
    },
    {
      "cell_type": "code",
      "metadata": {
        "colab": {
          "base_uri": "https://localhost:8080/",
          "height": 296
        },
        "id": "cf531f6e",
        "outputId": "86f4bddc-1a34-4bdb-f1f7-3f1fb98df52c"
      },
      "source": [
        "sns.histplot(df.price, bins=100)"
      ],
      "id": "cf531f6e",
      "execution_count": 47,
      "outputs": [
        {
          "output_type": "execute_result",
          "data": {
            "text/plain": [
              "<matplotlib.axes._subplots.AxesSubplot at 0x7eff3bb7a9d0>"
            ]
          },
          "metadata": {},
          "execution_count": 47
        },
        {
          "output_type": "display_data",
          "data": {
            "image/png": "[encoded data removed]",
            "text/plain": [
              "<Figure size 432x288 with 1 Axes>"
            ]
          },
          "metadata": {
            "needs_background": "light"
          }
        }
      ]
    },
    {
      "cell_type": "code",
      "metadata": {
        "colab": {
          "base_uri": "https://localhost:8080/",
          "height": 296
        },
        "id": "d09c6b9e",
        "outputId": "e79d996f-2b21-4cd2-dc8f-37d18cbfc88e"
      },
      "source": [
        "sns.histplot(df.price[df.price > 1000], bins=100)"
      ],
      "id": "d09c6b9e",
      "execution_count": 48,
      "outputs": [
        {
          "output_type": "execute_result",
          "data": {
            "text/plain": [
              "<matplotlib.axes._subplots.AxesSubplot at 0x7eff3bd46110>"
            ]
          },
          "metadata": {},
          "execution_count": 48
        },
        {
          "output_type": "display_data",
          "data": {
            "image/png": "[encoded data removed]",
            "text/plain": [
              "<Figure size 432x288 with 1 Axes>"
            ]
          },
          "metadata": {
            "needs_background": "light"
          }
        }
      ]
    },
    {
      "cell_type": "markdown",
      "metadata": {
        "id": "05OVYTLdF3D6"
      },
      "source": [
        "Yes it has long tail."
      ],
      "id": "05OVYTLdF3D6"
    },
    {
      "cell_type": "code",
      "metadata": {
        "id": "fba1c472"
      },
      "source": [
        "price_logs = np.log1p(df.price)"
      ],
      "id": "fba1c472",
      "execution_count": 49,
      "outputs": []
    },
    {
      "cell_type": "code",
      "metadata": {
        "colab": {
          "base_uri": "https://localhost:8080/",
          "height": 300
        },
        "id": "7b4cba42",
        "outputId": "4c27331f-f2bf-4507-e9f0-f4f4125fb63a"
      },
      "source": [
        "sns.histplot(price_logs, bins=100)"
      ],
      "id": "7b4cba42",
      "execution_count": 50,
      "outputs": [
        {
          "output_type": "execute_result",
          "data": {
            "text/plain": [
              "<matplotlib.axes._subplots.AxesSubplot at 0x7eff3be098d0>"
            ]
          },
          "metadata": {},
          "execution_count": 50
        },
        {
          "output_type": "display_data",
          "data": {
            "image/png": "[encoded data removed]",
            "text/plain": [
              "<Figure size 432x288 with 1 Axes>"
            ]
          },
          "metadata": {
            "needs_background": "light"
          }
        }
      ]
    },
    {
      "cell_type": "markdown",
      "metadata": {
        "id": "38fff064"
      },
      "source": [
        "Missing values"
      ],
      "id": "38fff064"
    },
    {
      "cell_type": "code",
      "metadata": {
        "colab": {
          "base_uri": "https://localhost:8080/"
        },
        "id": "9bb8912a",
        "outputId": "c465855c-96d3-48eb-8cd1-a9bfa15812b2"
      },
      "source": [
        "df.isnull().sum()"
      ],
      "id": "9bb8912a",
      "execution_count": 39,
      "outputs": [
        {
          "output_type": "execute_result",
          "data": {
            "text/plain": [
              "id                                    0\n",
              "name                                 16\n",
              "host_id                               0\n",
              "host_name                            21\n",
              "neighbourhood_group                   0\n",
              "neighbourhood                         0\n",
              "latitude                              0\n",
              "longitude                             0\n",
              "room_type                             0\n",
              "price                                 0\n",
              "minimum_nights                        0\n",
              "number_of_reviews                     0\n",
              "last_review                       10052\n",
              "reviews_per_month                 10052\n",
              "calculated_host_listings_count        0\n",
              "availability_365                      0\n",
              "dtype: int64"
            ]
          },
          "metadata": {},
          "execution_count": 39
        }
      ]
    },
    {
      "cell_type": "markdown",
      "metadata": {
        "id": "BvxuGAz4GOZw"
      },
      "source": [
        "**Question 1**: Number of missing values \\\n",
        "Find a feature with missing values. How many missing values does it have?"
      ],
      "id": "BvxuGAz4GOZw"
    },
    {
      "cell_type": "code",
      "metadata": {
        "id": "Iu9I47aDGLsp"
      },
      "source": [
        "df_hw=df[['latitude',\n",
        "'longitude',\n",
        "'price',\n",
        "'minimum_nights',\n",
        "'number_of_reviews',\n",
        "'reviews_per_month',\n",
        "'calculated_host_listings_count',\n",
        "'availability_365']]"
      ],
      "id": "Iu9I47aDGLsp",
      "execution_count": 52,
      "outputs": []
    },
    {
      "cell_type": "code",
      "metadata": {
        "id": "f7br-eVLHFTo",
        "outputId": "ccb59974-a151-4c8c-8e63-6462ac90825f",
        "colab": {
          "base_uri": "https://localhost:8080/"
        }
      },
      "source": [
        "df_hw.isnull().sum()"
      ],
      "id": "f7br-eVLHFTo",
      "execution_count": 53,
      "outputs": [
        {
          "output_type": "execute_result",
          "data": {
            "text/plain": [
              "latitude                              0\n",
              "longitude                             0\n",
              "price                                 0\n",
              "minimum_nights                        0\n",
              "number_of_reviews                     0\n",
              "reviews_per_month                 10052\n",
              "calculated_host_listings_count        0\n",
              "availability_365                      0\n",
              "dtype: int64"
            ]
          },
          "metadata": {},
          "execution_count": 53
        }
      ]
    },
    {
      "cell_type": "markdown",
      "metadata": {
        "id": "4R5KyeSAHLV1"
      },
      "source": [
        "reviews_per_month - 10052"
      ],
      "id": "4R5KyeSAHLV1"
    },
    {
      "cell_type": "markdown",
      "metadata": {
        "id": "YhBmDbIJJKUW"
      },
      "source": [
        "**Question 2** \\\n",
        "What's the median (50% percentile) for variable 'minimum_nights'?"
      ],
      "id": "YhBmDbIJJKUW"
    },
    {
      "cell_type": "code",
      "metadata": {
        "id": "K22HE_DvJPdF",
        "outputId": "9c44db14-d080-418a-9d00-adc8d1225aa0",
        "colab": {
          "base_uri": "https://localhost:8080/"
        }
      },
      "source": [
        "df_hw.minimum_nights.mean()"
      ],
      "id": "K22HE_DvJPdF",
      "execution_count": 55,
      "outputs": [
        {
          "output_type": "execute_result",
          "data": {
            "text/plain": [
              "7.029962163820431"
            ]
          },
          "metadata": {},
          "execution_count": 55
        }
      ]
    },
    {
      "cell_type": "markdown",
      "metadata": {
        "id": "x1GZn3nxJrhU"
      },
      "source": [
        "**Split the data** \\\n",
        "*   Shuffle the initial dataset, use seed 42.\n",
        "*   Split your data in train/val/test sets, with 60%/20%/20% distribution.\n",
        "*   Make sure that the target value ('price') is not in your dataframe.\n",
        "*   Apply the log transformation to the price variable using the np.log1p() function.\n",
        "\n"
      ],
      "id": "x1GZn3nxJrhU"
    },
    {
      "cell_type": "code",
      "metadata": {
        "id": "d6b9dd3b"
      },
      "source": [
        "n = len(df_hw)\n",
        "\n",
        "n_val = int(n * 0.2)\n",
        "n_test = int(n * 0.2)\n",
        "n_train = n - n_val - n_test"
      ],
      "id": "d6b9dd3b",
      "execution_count": 56,
      "outputs": []
    },
    {
      "cell_type": "code",
      "metadata": {
        "colab": {
          "base_uri": "https://localhost:8080/"
        },
        "id": "f0fa17a6",
        "outputId": "90d715fc-edfa-4126-ebb9-56e341237a66"
      },
      "source": [
        "n_val, n_test, n_train"
      ],
      "id": "f0fa17a6",
      "execution_count": 57,
      "outputs": [
        {
          "output_type": "execute_result",
          "data": {
            "text/plain": [
              "(9779, 9779, 29337)"
            ]
          },
          "metadata": {},
          "execution_count": 57
        }
      ]
    },
    {
      "cell_type": "markdown",
      "metadata": {
        "id": "8bd9f54a"
      },
      "source": [
        "## 2.4 Setting up the validation framework"
      ],
      "id": "8bd9f54a"
    },
    {
      "cell_type": "markdown",
      "metadata": {
        "id": "06abe508"
      },
      "source": [
        "Let's draw it"
      ],
      "id": "06abe508"
    },
    {
      "cell_type": "code",
      "metadata": {
        "id": "780e2d9d",
        "outputId": "1eb84ada-d437-46b0-f8a0-cb6c613bcfe9"
      },
      "source": [
        "df_hw.drop('')"
      ],
      "id": "780e2d9d",
      "execution_count": null,
      "outputs": [
        {
          "data": {
            "text/html": [
              "<div>\n",
              "<style scoped>\n",
              "    .dataframe tbody tr th:only-of-type {\n",
              "        vertical-align: middle;\n",
              "    }\n",
              "\n",
              "    .dataframe tbody tr th {\n",
              "        vertical-align: top;\n",
              "    }\n",
              "\n",
              "    .dataframe thead th {\n",
              "        text-align: right;\n",
              "    }\n",
              "</style>\n",
              "<table border=\"1\" class=\"dataframe\">\n",
              "  <thead>\n",
              "    <tr style=\"text-align: right;\">\n",
              "      <th></th>\n",
              "      <th>make</th>\n",
              "      <th>model</th>\n",
              "      <th>year</th>\n",
              "      <th>engine_fuel_type</th>\n",
              "      <th>engine_hp</th>\n",
              "      <th>engine_cylinders</th>\n",
              "      <th>transmission_type</th>\n",
              "      <th>driven_wheels</th>\n",
              "      <th>number_of_doors</th>\n",
              "      <th>market_category</th>\n",
              "      <th>vehicle_size</th>\n",
              "      <th>vehicle_style</th>\n",
              "      <th>highway_mpg</th>\n",
              "      <th>city_mpg</th>\n",
              "      <th>popularity</th>\n",
              "      <th>msrp</th>\n",
              "    </tr>\n",
              "  </thead>\n",
              "  <tbody>\n",
              "    <tr>\n",
              "      <th>10</th>\n",
              "      <td>bmw</td>\n",
              "      <td>1_series</td>\n",
              "      <td>2013</td>\n",
              "      <td>premium_unleaded_(required)</td>\n",
              "      <td>300.0</td>\n",
              "      <td>6.0</td>\n",
              "      <td>manual</td>\n",
              "      <td>rear_wheel_drive</td>\n",
              "      <td>2.0</td>\n",
              "      <td>luxury,high-performance</td>\n",
              "      <td>compact</td>\n",
              "      <td>coupe</td>\n",
              "      <td>28</td>\n",
              "      <td>20</td>\n",
              "      <td>3916</td>\n",
              "      <td>39600</td>\n",
              "    </tr>\n",
              "    <tr>\n",
              "      <th>0</th>\n",
              "      <td>bmw</td>\n",
              "      <td>1_series_m</td>\n",
              "      <td>2011</td>\n",
              "      <td>premium_unleaded_(required)</td>\n",
              "      <td>335.0</td>\n",
              "      <td>6.0</td>\n",
              "      <td>manual</td>\n",
              "      <td>rear_wheel_drive</td>\n",
              "      <td>2.0</td>\n",
              "      <td>factory_tuner,luxury,high-performance</td>\n",
              "      <td>compact</td>\n",
              "      <td>coupe</td>\n",
              "      <td>26</td>\n",
              "      <td>19</td>\n",
              "      <td>3916</td>\n",
              "      <td>46135</td>\n",
              "    </tr>\n",
              "    <tr>\n",
              "      <th>3</th>\n",
              "      <td>bmw</td>\n",
              "      <td>1_series</td>\n",
              "      <td>2011</td>\n",
              "      <td>premium_unleaded_(required)</td>\n",
              "      <td>230.0</td>\n",
              "      <td>6.0</td>\n",
              "      <td>manual</td>\n",
              "      <td>rear_wheel_drive</td>\n",
              "      <td>2.0</td>\n",
              "      <td>luxury,performance</td>\n",
              "      <td>compact</td>\n",
              "      <td>coupe</td>\n",
              "      <td>28</td>\n",
              "      <td>18</td>\n",
              "      <td>3916</td>\n",
              "      <td>29450</td>\n",
              "    </tr>\n",
              "    <tr>\n",
              "      <th>5</th>\n",
              "      <td>bmw</td>\n",
              "      <td>1_series</td>\n",
              "      <td>2012</td>\n",
              "      <td>premium_unleaded_(required)</td>\n",
              "      <td>230.0</td>\n",
              "      <td>6.0</td>\n",
              "      <td>manual</td>\n",
              "      <td>rear_wheel_drive</td>\n",
              "      <td>2.0</td>\n",
              "      <td>luxury,performance</td>\n",
              "      <td>compact</td>\n",
              "      <td>coupe</td>\n",
              "      <td>28</td>\n",
              "      <td>18</td>\n",
              "      <td>3916</td>\n",
              "      <td>31200</td>\n",
              "    </tr>\n",
              "  </tbody>\n",
              "</table>\n",
              "</div>"
            ],
            "text/plain": [
              "   make       model  year             engine_fuel_type  engine_hp  \\\n",
              "10  bmw    1_series  2013  premium_unleaded_(required)      300.0   \n",
              "0   bmw  1_series_m  2011  premium_unleaded_(required)      335.0   \n",
              "3   bmw    1_series  2011  premium_unleaded_(required)      230.0   \n",
              "5   bmw    1_series  2012  premium_unleaded_(required)      230.0   \n",
              "\n",
              "    engine_cylinders transmission_type     driven_wheels  number_of_doors  \\\n",
              "10               6.0            manual  rear_wheel_drive              2.0   \n",
              "0                6.0            manual  rear_wheel_drive              2.0   \n",
              "3                6.0            manual  rear_wheel_drive              2.0   \n",
              "5                6.0            manual  rear_wheel_drive              2.0   \n",
              "\n",
              "                          market_category vehicle_size vehicle_style  \\\n",
              "10                luxury,high-performance      compact         coupe   \n",
              "0   factory_tuner,luxury,high-performance      compact         coupe   \n",
              "3                      luxury,performance      compact         coupe   \n",
              "5                      luxury,performance      compact         coupe   \n",
              "\n",
              "    highway_mpg  city_mpg  popularity   msrp  \n",
              "10           28        20        3916  39600  \n",
              "0            26        19        3916  46135  \n",
              "3            28        18        3916  29450  \n",
              "5            28        18        3916  31200  "
            ]
          },
          "execution_count": 24,
          "metadata": {},
          "output_type": "execute_result"
        }
      ]
    },
    {
      "cell_type": "code",
      "metadata": {
        "id": "737ffe12"
      },
      "source": [
        "idx = np.arange(n)"
      ],
      "id": "737ffe12",
      "execution_count": 58,
      "outputs": []
    },
    {
      "cell_type": "code",
      "metadata": {
        "id": "9364ed34"
      },
      "source": [
        "np.random.seed(42)\n",
        "np.random.shuffle(idx)"
      ],
      "id": "9364ed34",
      "execution_count": 59,
      "outputs": []
    },
    {
      "cell_type": "code",
      "metadata": {
        "id": "379e47a5"
      },
      "source": [
        "df_train = df_hw.iloc[idx[:n_train]]\n",
        "df_val = df_hw.iloc[idx[n_train:n_train+n_val]]\n",
        "df_test = df_hw.iloc[idx[n_train+n_val:]]"
      ],
      "id": "379e47a5",
      "execution_count": 61,
      "outputs": []
    },
    {
      "cell_type": "code",
      "metadata": {
        "colab": {
          "base_uri": "https://localhost:8080/",
          "height": 224
        },
        "id": "7993cad8",
        "outputId": "7faeb2c0-fcb7-402d-dfc2-057ae50743c1"
      },
      "source": [
        "df_train.head()"
      ],
      "id": "7993cad8",
      "execution_count": 62,
      "outputs": [
        {
          "output_type": "execute_result",
          "data": {
            "text/html": [
              "<div>\n",
              "<style scoped>\n",
              "    .dataframe tbody tr th:only-of-type {\n",
              "        vertical-align: middle;\n",
              "    }\n",
              "\n",
              "    .dataframe tbody tr th {\n",
              "        vertical-align: top;\n",
              "    }\n",
              "\n",
              "    .dataframe thead th {\n",
              "        text-align: right;\n",
              "    }\n",
              "</style>\n",
              "<table border=\"1\" class=\"dataframe\">\n",
              "  <thead>\n",
              "    <tr style=\"text-align: right;\">\n",
              "      <th></th>\n",
              "      <th>latitude</th>\n",
              "      <th>longitude</th>\n",
              "      <th>price</th>\n",
              "      <th>minimum_nights</th>\n",
              "      <th>number_of_reviews</th>\n",
              "      <th>reviews_per_month</th>\n",
              "      <th>calculated_host_listings_count</th>\n",
              "      <th>availability_365</th>\n",
              "    </tr>\n",
              "  </thead>\n",
              "  <tbody>\n",
              "    <tr>\n",
              "      <th>879</th>\n",
              "      <td>40.64354</td>\n",
              "      <td>-73.97777</td>\n",
              "      <td>89</td>\n",
              "      <td>3</td>\n",
              "      <td>62</td>\n",
              "      <td>0.71</td>\n",
              "      <td>1</td>\n",
              "      <td>189</td>\n",
              "    </tr>\n",
              "    <tr>\n",
              "      <th>44383</th>\n",
              "      <td>40.70666</td>\n",
              "      <td>-73.90779</td>\n",
              "      <td>30</td>\n",
              "      <td>21</td>\n",
              "      <td>0</td>\n",
              "      <td>NaN</td>\n",
              "      <td>1</td>\n",
              "      <td>73</td>\n",
              "    </tr>\n",
              "    <tr>\n",
              "      <th>15394</th>\n",
              "      <td>40.76116</td>\n",
              "      <td>-73.99016</td>\n",
              "      <td>120</td>\n",
              "      <td>2</td>\n",
              "      <td>17</td>\n",
              "      <td>0.43</td>\n",
              "      <td>1</td>\n",
              "      <td>0</td>\n",
              "    </tr>\n",
              "    <tr>\n",
              "      <th>43230</th>\n",
              "      <td>40.70763</td>\n",
              "      <td>-74.01050</td>\n",
              "      <td>470</td>\n",
              "      <td>2</td>\n",
              "      <td>5</td>\n",
              "      <td>1.88</td>\n",
              "      <td>327</td>\n",
              "      <td>272</td>\n",
              "    </tr>\n",
              "    <tr>\n",
              "      <th>16332</th>\n",
              "      <td>40.79658</td>\n",
              "      <td>-73.93287</td>\n",
              "      <td>199</td>\n",
              "      <td>2</td>\n",
              "      <td>30</td>\n",
              "      <td>0.80</td>\n",
              "      <td>1</td>\n",
              "      <td>30</td>\n",
              "    </tr>\n",
              "  </tbody>\n",
              "</table>\n",
              "</div>"
            ],
            "text/plain": [
              "       latitude  longitude  ...  calculated_host_listings_count  availability_365\n",
              "879    40.64354  -73.97777  ...                               1               189\n",
              "44383  40.70666  -73.90779  ...                               1                73\n",
              "15394  40.76116  -73.99016  ...                               1                 0\n",
              "43230  40.70763  -74.01050  ...                             327               272\n",
              "16332  40.79658  -73.93287  ...                               1                30\n",
              "\n",
              "[5 rows x 8 columns]"
            ]
          },
          "metadata": {},
          "execution_count": 62
        }
      ]
    },
    {
      "cell_type": "code",
      "metadata": {
        "colab": {
          "base_uri": "https://localhost:8080/"
        },
        "id": "43b92a69",
        "outputId": "79a8af01-8fb4-48a3-8e6b-b257a8a06c6b"
      },
      "source": [
        "len(df_train), len(df_val), len(df_test)"
      ],
      "id": "43b92a69",
      "execution_count": 63,
      "outputs": [
        {
          "output_type": "execute_result",
          "data": {
            "text/plain": [
              "(29337, 9779, 9779)"
            ]
          },
          "metadata": {},
          "execution_count": 63
        }
      ]
    },
    {
      "cell_type": "code",
      "metadata": {
        "id": "a46b5068"
      },
      "source": [
        "df_train = df_train.reset_index(drop=True)\n",
        "df_val = df_val.reset_index(drop=True)\n",
        "df_test = df_test.reset_index(drop=True)"
      ],
      "id": "a46b5068",
      "execution_count": 64,
      "outputs": []
    },
    {
      "cell_type": "code",
      "metadata": {
        "id": "200cd5fc"
      },
      "source": [
        "y_train = np.log1p(df_train.price.values)\n",
        "y_val = np.log1p(df_val.price.values)\n",
        "y_test = np.log1p(df_test.price.values)"
      ],
      "id": "200cd5fc",
      "execution_count": 65,
      "outputs": []
    },
    {
      "cell_type": "code",
      "metadata": {
        "id": "94bef075"
      },
      "source": [
        "del df_train['price']\n",
        "del df_val['price']\n",
        "del df_test['price']"
      ],
      "id": "94bef075",
      "execution_count": 66,
      "outputs": []
    },
    {
      "cell_type": "code",
      "metadata": {
        "colab": {
          "base_uri": "https://localhost:8080/"
        },
        "id": "9cf3cef6",
        "outputId": "8af757ba-03bf-4aba-925b-f9bb541247a6"
      },
      "source": [
        "len(y_train)"
      ],
      "id": "9cf3cef6",
      "execution_count": 67,
      "outputs": [
        {
          "output_type": "execute_result",
          "data": {
            "text/plain": [
              "29337"
            ]
          },
          "metadata": {},
          "execution_count": 67
        }
      ]
    },
    {
      "cell_type": "markdown",
      "metadata": {
        "id": "15c6a5b9"
      },
      "source": [
        "## 2.5 Linear regression"
      ],
      "id": "15c6a5b9"
    },
    {
      "cell_type": "markdown",
      "metadata": {
        "id": "18226605"
      },
      "source": [
        "draw"
      ],
      "id": "18226605"
    },
    {
      "cell_type": "code",
      "metadata": {
        "colab": {
          "base_uri": "https://localhost:8080/"
        },
        "id": "22ac1a3a",
        "outputId": "e150bedb-76de-4746-b9e6-547b15b58f92"
      },
      "source": [
        "df_train.iloc[10]"
      ],
      "id": "22ac1a3a",
      "execution_count": 68,
      "outputs": [
        {
          "output_type": "execute_result",
          "data": {
            "text/plain": [
              "latitude                           40.75078\n",
              "longitude                         -73.87949\n",
              "minimum_nights                      1.00000\n",
              "number_of_reviews                   4.00000\n",
              "reviews_per_month                   2.11000\n",
              "calculated_host_listings_count      4.00000\n",
              "availability_365                  354.00000\n",
              "Name: 10, dtype: float64"
            ]
          },
          "metadata": {},
          "execution_count": 68
        }
      ]
    },
    {
      "cell_type": "code",
      "metadata": {
        "id": "a16334e0"
      },
      "source": [
        "def train_linear_regression(X, y):\n",
        "    ones = np.ones(X.shape[0])\n",
        "    X = np.column_stack([ones, X])\n",
        "\n",
        "    XTX = X.T.dot(X)\n",
        "    XTX_inv = np.linalg.inv(XTX)\n",
        "    w_full = XTX_inv.dot(X.T).dot(y)\n",
        "    \n",
        "    return w_full[0], w_full[1:]"
      ],
      "id": "a16334e0",
      "execution_count": null,
      "outputs": []
    },
    {
      "cell_type": "code",
      "metadata": {
        "id": "1f8a1f96",
        "outputId": "1f30da4a-f972-4fbc-f987-9218b3843023"
      },
      "source": [
        "train_linear_regression(X, y)"
      ],
      "id": "1f8a1f96",
      "execution_count": null,
      "outputs": [
        {
          "data": {
            "text/plain": [
              "(2.0460143454602068e+20,\n",
              " array([1.26525728e+20, 8.71025484e+01, 2.59709297e+02, 0.00000000e+00]))"
            ]
          },
          "execution_count": 61,
          "metadata": {},
          "output_type": "execute_result"
        }
      ]
    },
    {
      "cell_type": "markdown",
      "metadata": {
        "id": "fa84ea0a"
      },
      "source": [
        "## 2.8 Car price baseline model"
      ],
      "id": "fa84ea0a"
    },
    {
      "cell_type": "code",
      "metadata": {
        "id": "9baac4ed",
        "outputId": "e7d276e3-cc97-4fae-f90e-00826697da1a"
      },
      "source": [
        "df_train.columns"
      ],
      "id": "9baac4ed",
      "execution_count": null,
      "outputs": [
        {
          "data": {
            "text/plain": [
              "Index(['make', 'model', 'year', 'engine_fuel_type', 'engine_hp',\n",
              "       'engine_cylinders', 'transmission_type', 'driven_wheels',\n",
              "       'number_of_doors', 'market_category', 'vehicle_size', 'vehicle_style',\n",
              "       'highway_mpg', 'city_mpg', 'popularity'],\n",
              "      dtype='object')"
            ]
          },
          "execution_count": 62,
          "metadata": {},
          "output_type": "execute_result"
        }
      ]
    },
    {
      "cell_type": "code",
      "metadata": {
        "scrolled": true,
        "id": "7a612a86"
      },
      "source": [
        "base = ['engine_hp', 'engine_cylinders', 'highway_mpg',\n",
        "        'city_mpg', 'popularity']\n",
        "\n",
        "X_train = df_train[base].fillna(0).values\n",
        "\n",
        "w0, w = train_linear_regression(X_train, y_train)\n",
        "\n",
        "y_pred = w0 + X_train.dot(w)"
      ],
      "id": "7a612a86",
      "execution_count": null,
      "outputs": []
    },
    {
      "cell_type": "code",
      "metadata": {
        "id": "524d4f3c",
        "outputId": "81d040d2-2195-4dba-9cf1-0175d83f79cc"
      },
      "source": [
        "w0"
      ],
      "id": "524d4f3c",
      "execution_count": null,
      "outputs": [
        {
          "data": {
            "text/plain": [
              "7.9272573880700605"
            ]
          },
          "execution_count": 64,
          "metadata": {},
          "output_type": "execute_result"
        }
      ]
    },
    {
      "cell_type": "code",
      "metadata": {
        "id": "9e7c051e",
        "outputId": "e7b0c214-255e-47be-caa7-69f5a46636c2"
      },
      "source": [
        "w"
      ],
      "id": "9e7c051e",
      "execution_count": null,
      "outputs": [
        {
          "data": {
            "text/plain": [
              "array([ 9.70589522e-03, -1.59103494e-01,  1.43792133e-02,  1.49441072e-02,\n",
              "       -9.06908672e-06])"
            ]
          },
          "execution_count": 65,
          "metadata": {},
          "output_type": "execute_result"
        }
      ]
    },
    {
      "cell_type": "code",
      "metadata": {
        "id": "bcc41fd3"
      },
      "source": [
        ""
      ],
      "id": "bcc41fd3",
      "execution_count": null,
      "outputs": []
    },
    {
      "cell_type": "code",
      "metadata": {
        "id": "533319d7",
        "outputId": "6dabf4d7-b272-4873-f49e-cbeee89a220b"
      },
      "source": [
        "sns.histplot(y_pred, color='red', alpha=0.5, bins=50)\n",
        "sns.histplot(y_train, color='blue', alpha=0.5, bins=50)\n"
      ],
      "id": "533319d7",
      "execution_count": null,
      "outputs": [
        {
          "data": {
            "text/plain": [
              "<AxesSubplot:ylabel='Count'>"
            ]
          },
          "execution_count": 66,
          "metadata": {},
          "output_type": "execute_result"
        },
        {
          "data": {
            "image/png": "[encoded data removed]",
            "text/plain": [
              "<Figure size 432x288 with 1 Axes>"
            ]
          },
          "metadata": {
            "needs_background": "light"
          },
          "output_type": "display_data"
        }
      ]
    },
    {
      "cell_type": "markdown",
      "metadata": {
        "id": "5715976f"
      },
      "source": [
        "## 2.9 RMSE"
      ],
      "id": "5715976f"
    },
    {
      "cell_type": "code",
      "metadata": {
        "id": "4583f105"
      },
      "source": [
        "def rmse(y, y_pred):\n",
        "    se = (y - y_pred) ** 2\n",
        "    mse = se.mean()\n",
        "    return np.sqrt(mse)"
      ],
      "id": "4583f105",
      "execution_count": null,
      "outputs": []
    },
    {
      "cell_type": "code",
      "metadata": {
        "id": "96d11b4c",
        "outputId": "eb72b0f0-b02b-44ea-98de-4a7dd9ab6772"
      },
      "source": [
        "rmse(y_train, y_pred)"
      ],
      "id": "96d11b4c",
      "execution_count": null,
      "outputs": [
        {
          "data": {
            "text/plain": [
              "0.7554192603920132"
            ]
          },
          "execution_count": 68,
          "metadata": {},
          "output_type": "execute_result"
        }
      ]
    },
    {
      "cell_type": "markdown",
      "metadata": {
        "id": "cda268fe"
      },
      "source": [
        "## 2.10 Validating the model"
      ],
      "id": "cda268fe"
    },
    {
      "cell_type": "code",
      "metadata": {
        "id": "75295d2b"
      },
      "source": [
        "def prepare_X(df):\n",
        "    df_num = df[base]\n",
        "    df_num = df_num.fillna(0)\n",
        "    X = df_num.values\n",
        "    return X"
      ],
      "id": "75295d2b",
      "execution_count": null,
      "outputs": []
    },
    {
      "cell_type": "code",
      "metadata": {
        "id": "0e1578f4",
        "outputId": "6940e811-ac95-4f6a-b02d-cfddbc340ddb"
      },
      "source": [
        "X_train = prepare_X(df_train)\n",
        "w0, w = train_linear_regression(X_train, y_train)\n",
        "\n",
        "X_val = prepare_X(df_val)\n",
        "y_pred = w0 + X_val.dot(w)\n",
        "rmse(y_val, y_pred)"
      ],
      "id": "0e1578f4",
      "execution_count": null,
      "outputs": [
        {
          "data": {
            "text/plain": [
              "0.7616530991301577"
            ]
          },
          "execution_count": 70,
          "metadata": {},
          "output_type": "execute_result"
        }
      ]
    },
    {
      "cell_type": "markdown",
      "metadata": {
        "id": "813c9957"
      },
      "source": [
        "## 2.11 Simple feature engineering"
      ],
      "id": "813c9957"
    },
    {
      "cell_type": "code",
      "metadata": {
        "id": "ccb215a0"
      },
      "source": [
        "def prepare_X(df):\n",
        "    df = df.copy()\n",
        "    \n",
        "    df['age'] = 2017 - df['year']\n",
        "    features = base + ['age']\n",
        "    \n",
        "    df_num = df[features]\n",
        "    df_num = df_num.fillna(0)\n",
        "    X = df_num.values\n",
        "\n",
        "    return X"
      ],
      "id": "ccb215a0",
      "execution_count": null,
      "outputs": []
    },
    {
      "cell_type": "code",
      "metadata": {
        "id": "9b323870",
        "outputId": "b1f558a8-b6f3-46f2-ea7b-3c2c1c803f46"
      },
      "source": [
        "X_train = prepare_X(df_train)\n",
        "w0, w = train_linear_regression(X_train, y_train)\n",
        "\n",
        "X_val = prepare_X(df_val)\n",
        "y_pred = w0 + X_val.dot(w)\n",
        "rmse(y_val, y_pred)"
      ],
      "id": "9b323870",
      "execution_count": null,
      "outputs": [
        {
          "data": {
            "text/plain": [
              "0.5172055461058291"
            ]
          },
          "execution_count": 72,
          "metadata": {},
          "output_type": "execute_result"
        }
      ]
    },
    {
      "cell_type": "code",
      "metadata": {
        "id": "a6c40b7f",
        "outputId": "8f2913eb-162e-47a8-a03b-68f253dd9555"
      },
      "source": [
        "sns.histplot(y_pred, label='prediction', color='red', alpha=0.5, bins=50)\n",
        "sns.histplot(y_val, label='target', color='blue',  alpha=0.5, bins=50)\n",
        "plt.legend()"
      ],
      "id": "a6c40b7f",
      "execution_count": null,
      "outputs": [
        {
          "data": {
            "text/plain": [
              "<matplotlib.legend.Legend at 0xff7e413fe3a0>"
            ]
          },
          "execution_count": 73,
          "metadata": {},
          "output_type": "execute_result"
        },
        {
          "data": {
            "image/png": "[encoded data removed]",
            "text/plain": [
              "<Figure size 432x288 with 1 Axes>"
            ]
          },
          "metadata": {
            "needs_background": "light"
          },
          "output_type": "display_data"
        }
      ]
    },
    {
      "cell_type": "markdown",
      "metadata": {
        "id": "9c4a1f9d"
      },
      "source": [
        "## 2.12 Categorical variables"
      ],
      "id": "9c4a1f9d"
    },
    {
      "cell_type": "code",
      "metadata": {
        "id": "8390f4a6"
      },
      "source": [
        "categorical_columns = [\n",
        "    'make', 'model', 'engine_fuel_type', 'driven_wheels', 'market_category',\n",
        "    'vehicle_size', 'vehicle_style']\n",
        "\n",
        "categorical = {}\n",
        "\n",
        "for c in categorical_columns:\n",
        "    categorical[c] = list(df_train[c].value_counts().head().index)"
      ],
      "id": "8390f4a6",
      "execution_count": null,
      "outputs": []
    },
    {
      "cell_type": "code",
      "metadata": {
        "id": "feb3cbb3"
      },
      "source": [
        "def prepare_X(df):\n",
        "    df = df.copy()\n",
        "    \n",
        "    df['age'] = 2017 - df['year']\n",
        "    features = base + ['age']\n",
        "\n",
        "    for v in [2, 3, 4]:\n",
        "        df['num_doors_%d' % v] = (df.number_of_doors == v).astype(int)\n",
        "        features.append('num_doors_%d' % v)\n",
        "\n",
        "    for name, values in categorical.items():\n",
        "        for value in values:\n",
        "            df['%s_%s' % (name, value)] = (df[name] == value).astype(int)\n",
        "            features.append('%s_%s' % (name, value))\n",
        "\n",
        "    df_num = df[features]\n",
        "    df_num = df_num.fillna(0)\n",
        "    X = df_num.values\n",
        "\n",
        "    return X"
      ],
      "id": "feb3cbb3",
      "execution_count": null,
      "outputs": []
    },
    {
      "cell_type": "code",
      "metadata": {
        "id": "f04f5ba7",
        "outputId": "22476b57-28cc-4d85-b1ab-f2a3cb910aa5"
      },
      "source": [
        "X_train = prepare_X(df_train)\n",
        "w0, w = train_linear_regression(X_train, y_train)\n",
        "\n",
        "X_val = prepare_X(df_val)\n",
        "y_pred = w0 + X_val.dot(w)\n",
        "rmse(y_val, y_pred)"
      ],
      "id": "f04f5ba7",
      "execution_count": null,
      "outputs": [
        {
          "data": {
            "text/plain": [
              "266.5994263627081"
            ]
          },
          "execution_count": 76,
          "metadata": {},
          "output_type": "execute_result"
        }
      ]
    },
    {
      "cell_type": "code",
      "metadata": {
        "id": "cd701414",
        "outputId": "de805b87-85d9-4615-c1ef-8a68f2d02e8e"
      },
      "source": [
        "w0, w"
      ],
      "id": "cd701414",
      "execution_count": null,
      "outputs": [
        {
          "data": {
            "text/plain": [
              "(3066759258862621.0,\n",
              " array([-7.90863204e-01,  1.80621909e+02,  1.97903973e+01,  1.46968041e+01,\n",
              "        -3.39713455e-04,  7.74924546e+00,  9.76297867e+03,  9.83480038e+03,\n",
              "         9.77003629e+03, -2.36936868e+01, -6.98582110e+00,  7.93435108e+01,\n",
              "        -7.33167695e+01, -6.60897799e+00, -1.00310530e+01,  7.79383982e+01,\n",
              "        -4.19367134e+01, -6.14213575e+01,  2.12412304e+02,  1.02166851e+03,\n",
              "         9.08719092e+02,  9.84633740e+02,  1.06771237e+03,  7.00547494e+02,\n",
              "        -3.06675926e+15, -3.06675926e+15, -3.06675926e+15, -3.06675926e+15,\n",
              "         2.52356626e+00,  3.40712703e+00, -1.27416249e+01,  1.22844560e+01,\n",
              "        -1.51620939e+01,  3.09315910e+02,  2.88692636e+02,  2.78158171e+02,\n",
              "        -1.44115660e-01, -2.62579827e-02,  1.75913981e-01,  3.65037816e-01,\n",
              "        -2.90235596e-01]))"
            ]
          },
          "execution_count": 77,
          "metadata": {},
          "output_type": "execute_result"
        }
      ]
    },
    {
      "cell_type": "markdown",
      "metadata": {
        "id": "346722bd"
      },
      "source": [
        "## 2.13 Regilarization"
      ],
      "id": "346722bd"
    },
    {
      "cell_type": "code",
      "metadata": {
        "id": "0f5565a4",
        "outputId": "ab5dc7ff-b69a-4c92-eed5-dc4786793934"
      },
      "source": [
        "X = [\n",
        "    [4, 4, 4],\n",
        "    [3, 5, 5],\n",
        "    [5, 1, 1],\n",
        "    [5, 4, 4],\n",
        "    [7, 5, 5],\n",
        "    [4, 5, 5.00000001],\n",
        "]\n",
        "\n",
        "X = np.array(X)\n",
        "X"
      ],
      "id": "0f5565a4",
      "execution_count": null,
      "outputs": [
        {
          "data": {
            "text/plain": [
              "array([[4.        , 4.        , 4.        ],\n",
              "       [3.        , 5.        , 5.        ],\n",
              "       [5.        , 1.        , 1.        ],\n",
              "       [5.        , 4.        , 4.        ],\n",
              "       [7.        , 5.        , 5.        ],\n",
              "       [4.        , 5.        , 5.00000001]])"
            ]
          },
          "execution_count": 78,
          "metadata": {},
          "output_type": "execute_result"
        }
      ]
    },
    {
      "cell_type": "code",
      "metadata": {
        "id": "450ba152"
      },
      "source": [
        "y= [1, 2, 3, 1, 2, 3]"
      ],
      "id": "450ba152",
      "execution_count": null,
      "outputs": []
    },
    {
      "cell_type": "code",
      "metadata": {
        "id": "4e26321f",
        "outputId": "afe28083-1599-4015-f5f7-1adc79f09bdf"
      },
      "source": [
        "XTX = X.T.dot(X)\n",
        "XTX"
      ],
      "id": "4e26321f",
      "execution_count": null,
      "outputs": [
        {
          "data": {
            "text/plain": [
              "array([[140.        , 111.        , 111.00000004],\n",
              "       [111.        , 108.        , 108.00000005],\n",
              "       [111.00000004, 108.00000005, 108.0000001 ]])"
            ]
          },
          "execution_count": 80,
          "metadata": {},
          "output_type": "execute_result"
        }
      ]
    },
    {
      "cell_type": "code",
      "metadata": {
        "id": "37834332"
      },
      "source": [
        "XTX_inv = np.linalg.inv(XTX)"
      ],
      "id": "37834332",
      "execution_count": null,
      "outputs": []
    },
    {
      "cell_type": "code",
      "metadata": {
        "id": "e742cc39",
        "outputId": "f7a4c5e7-0ba2-4535-f10f-0e5e432bf3fd"
      },
      "source": [
        "XTX_inv"
      ],
      "id": "e742cc39",
      "execution_count": null,
      "outputs": [
        {
          "data": {
            "text/plain": [
              "array([[ 3.85321698e-02,  1.20696663e+05, -1.20696696e+05],\n",
              "       [ 1.20696640e+05, -2.74658839e+14,  2.74658839e+14],\n",
              "       [-1.20696680e+05,  2.74658839e+14, -2.74658839e+14]])"
            ]
          },
          "execution_count": 82,
          "metadata": {},
          "output_type": "execute_result"
        }
      ]
    },
    {
      "cell_type": "code",
      "metadata": {
        "id": "254d4f59",
        "outputId": "85c9ae8e-b746-463c-d9bb-bd83f6739032"
      },
      "source": [
        "XTX_inv.dot(X.T).dot(y)"
      ],
      "id": "254d4f59",
      "execution_count": null,
      "outputs": [
        {
          "data": {
            "text/plain": [
              "array([ 6.24269892e-01,  3.44329390e+06, -3.44329299e+06])"
            ]
          },
          "execution_count": 83,
          "metadata": {},
          "output_type": "execute_result"
        }
      ]
    },
    {
      "cell_type": "code",
      "metadata": {
        "id": "1937543c"
      },
      "source": [
        "XTX = [\n",
        "    [1, 2, 2],\n",
        "    [2, 1, 1.0000001],\n",
        "    [2, 1.0000001, 1]\n",
        "]\n",
        "\n",
        "XTX = np.array(XTX)"
      ],
      "id": "1937543c",
      "execution_count": null,
      "outputs": []
    },
    {
      "cell_type": "code",
      "metadata": {
        "id": "05b25e13",
        "outputId": "b08f7bf3-997a-4c9c-bb81-2a88a4a35a55"
      },
      "source": [
        "np.linalg.inv(XTX)"
      ],
      "id": "05b25e13",
      "execution_count": null,
      "outputs": [
        {
          "data": {
            "text/plain": [
              "array([[-3.33333356e-01,  3.33333339e-01,  3.33333339e-01],\n",
              "       [ 3.33333339e-01, -5.00000008e+06,  4.99999991e+06],\n",
              "       [ 3.33333339e-01,  4.99999991e+06, -5.00000008e+06]])"
            ]
          },
          "execution_count": 85,
          "metadata": {},
          "output_type": "execute_result"
        }
      ]
    },
    {
      "cell_type": "code",
      "metadata": {
        "id": "6c4f8cf8"
      },
      "source": [
        "XTX = XTX + 0.01 * np.eye(3)"
      ],
      "id": "6c4f8cf8",
      "execution_count": null,
      "outputs": []
    },
    {
      "cell_type": "code",
      "metadata": {
        "id": "49b06f04",
        "outputId": "76e55a35-e40a-49ad-bf25-96c3e87465a0"
      },
      "source": [
        "np.linalg.inv(XTX)"
      ],
      "id": "49b06f04",
      "execution_count": null,
      "outputs": [
        {
          "data": {
            "text/plain": [
              "array([[ -0.33668908,   0.33501399,   0.33501399],\n",
              "       [  0.33501399,  49.91590897, -50.08509104],\n",
              "       [  0.33501399, -50.08509104,  49.91590897]])"
            ]
          },
          "execution_count": 87,
          "metadata": {},
          "output_type": "execute_result"
        }
      ]
    },
    {
      "cell_type": "code",
      "metadata": {
        "id": "d6d67690"
      },
      "source": [
        "def train_linear_regression_reg(X, y, r=0.001):\n",
        "    ones = np.ones(X.shape[0])\n",
        "    X = np.column_stack([ones, X])\n",
        "\n",
        "    XTX = X.T.dot(X)\n",
        "    XTX = XTX + r * np.eye(XTX.shape[0])\n",
        "\n",
        "    XTX_inv = np.linalg.inv(XTX)\n",
        "    w_full = XTX_inv.dot(X.T).dot(y)\n",
        "    \n",
        "    return w_full[0], w_full[1:]"
      ],
      "id": "d6d67690",
      "execution_count": null,
      "outputs": []
    },
    {
      "cell_type": "code",
      "metadata": {
        "id": "0c30aacf",
        "outputId": "6e047da5-60b2-48c3-95c1-863e312d1212"
      },
      "source": [
        "X_train = prepare_X(df_train)\n",
        "w0, w = train_linear_regression_reg(X_train, y_train, r=0.01)\n",
        "\n",
        "X_val = prepare_X(df_val)\n",
        "y_pred = w0 + X_val.dot(w)\n",
        "rmse(y_val, y_pred)"
      ],
      "id": "0c30aacf",
      "execution_count": null,
      "outputs": [
        {
          "data": {
            "text/plain": [
              "0.4608208286209523"
            ]
          },
          "execution_count": 89,
          "metadata": {},
          "output_type": "execute_result"
        }
      ]
    },
    {
      "cell_type": "markdown",
      "metadata": {
        "id": "b30320c0"
      },
      "source": [
        "## 2.14 Tuning the model"
      ],
      "id": "b30320c0"
    },
    {
      "cell_type": "code",
      "metadata": {
        "id": "bf1ff1c7",
        "outputId": "1765c31a-a502-4968-ffe9-6a26d606207f"
      },
      "source": [
        "for r in [0.0, 0.00001, 0.0001, 0.001, 0.1, 1, 10]:\n",
        "    X_train = prepare_X(df_train)\n",
        "    w0, w = train_linear_regression_reg(X_train, y_train, r=r)\n",
        "\n",
        "    X_val = prepare_X(df_val)\n",
        "    y_pred = w0 + X_val.dot(w)\n",
        "    score = rmse(y_val, y_pred)\n",
        "    \n",
        "    print(r, w0, score)"
      ],
      "id": "bf1ff1c7",
      "execution_count": null,
      "outputs": [
        {
          "name": "stdout",
          "output_type": "stream",
          "text": [
            "0.0 3066759258862621.0 266.5994263627081\n",
            "1e-05 6.6398149018651305 0.46081532123609276\n",
            "0.0001 7.12965014007955 0.4608153659783837\n",
            "0.001 7.13085491393288 0.46081585838957173\n",
            "0.1 7.0002324128629025 0.4608736549134577\n",
            "1 6.250747846974607 0.46158128382779856\n",
            "10 4.7295125856710305 0.472609877266903\n"
          ]
        }
      ]
    },
    {
      "cell_type": "code",
      "metadata": {
        "id": "b3234686",
        "outputId": "26b8d99f-43d2-4982-cb4d-10f3e6c11ccf"
      },
      "source": [
        "r = 0.001\n",
        "X_train = prepare_X(df_train)\n",
        "w0, w = train_linear_regression_reg(X_train, y_train, r=r)\n",
        "\n",
        "X_val = prepare_X(df_val)\n",
        "y_pred = w0 + X_val.dot(w)\n",
        "score = rmse(y_val, y_pred)\n",
        "score"
      ],
      "id": "b3234686",
      "execution_count": null,
      "outputs": [
        {
          "data": {
            "text/plain": [
              "0.46081585838957173"
            ]
          },
          "execution_count": 91,
          "metadata": {},
          "output_type": "execute_result"
        }
      ]
    },
    {
      "cell_type": "markdown",
      "metadata": {
        "id": "71338e00"
      },
      "source": [
        "## 2.15 Using the model"
      ],
      "id": "71338e00"
    },
    {
      "cell_type": "code",
      "metadata": {
        "id": "88f943a4"
      },
      "source": [
        "df_full_train = pd.concat([df_train, df_val])"
      ],
      "id": "88f943a4",
      "execution_count": null,
      "outputs": []
    },
    {
      "cell_type": "code",
      "metadata": {
        "id": "0b3db4ae"
      },
      "source": [
        "df_full_train = df_full_train.reset_index(drop=True)"
      ],
      "id": "0b3db4ae",
      "execution_count": null,
      "outputs": []
    },
    {
      "cell_type": "code",
      "metadata": {
        "id": "830e19a1"
      },
      "source": [
        "X_full_train = prepare_X(df_full_train)"
      ],
      "id": "830e19a1",
      "execution_count": null,
      "outputs": []
    },
    {
      "cell_type": "code",
      "metadata": {
        "id": "cd16ed91",
        "outputId": "d4361139-abbe-41bb-945c-2b10fdc67ac6"
      },
      "source": [
        "X_full_train"
      ],
      "id": "cd16ed91",
      "execution_count": null,
      "outputs": [
        {
          "data": {
            "text/plain": [
              "array([[148.,   4.,  33., ...,   1.,   0.,   0.],\n",
              "       [132.,   4.,  32., ...,   0.,   0.,   1.],\n",
              "       [148.,   4.,  37., ...,   0.,   0.,   1.],\n",
              "       ...,\n",
              "       [332.,   8.,  23., ...,   0.,   0.,   0.],\n",
              "       [148.,   4.,  34., ...,   0.,   0.,   0.],\n",
              "       [290.,   6.,  25., ...,   0.,   0.,   0.]])"
            ]
          },
          "execution_count": 95,
          "metadata": {},
          "output_type": "execute_result"
        }
      ]
    },
    {
      "cell_type": "code",
      "metadata": {
        "id": "533bc8dc"
      },
      "source": [
        "y_full_train = np.concatenate([y_train, y_val])"
      ],
      "id": "533bc8dc",
      "execution_count": null,
      "outputs": []
    },
    {
      "cell_type": "code",
      "metadata": {
        "id": "091ceac1"
      },
      "source": [
        "w0, w = train_linear_regression_reg(X_full_train, y_full_train, r=0.001)"
      ],
      "id": "091ceac1",
      "execution_count": null,
      "outputs": []
    },
    {
      "cell_type": "code",
      "metadata": {
        "id": "04923d12",
        "outputId": "5292bc57-592d-4113-ee5c-fb95347f2695"
      },
      "source": [
        "X_test = prepare_X(df_test)\n",
        "y_pred = w0 + X_test.dot(w)\n",
        "score = rmse(y_test, y_pred)\n",
        "score"
      ],
      "id": "04923d12",
      "execution_count": null,
      "outputs": [
        {
          "data": {
            "text/plain": [
              "0.4600753970266562"
            ]
          },
          "execution_count": 98,
          "metadata": {},
          "output_type": "execute_result"
        }
      ]
    },
    {
      "cell_type": "code",
      "metadata": {
        "id": "5bc0a157",
        "outputId": "6041ca31-7fd3-46ad-f9e4-a96d1da8bcd1"
      },
      "source": [
        "car = df_test.iloc[20].to_dict()\n",
        "car"
      ],
      "id": "5bc0a157",
      "execution_count": null,
      "outputs": [
        {
          "data": {
            "text/plain": [
              "{'make': 'toyota',\n",
              " 'model': 'sienna',\n",
              " 'year': 2015,\n",
              " 'engine_fuel_type': 'regular_unleaded',\n",
              " 'engine_hp': 266.0,\n",
              " 'engine_cylinders': 6.0,\n",
              " 'transmission_type': 'automatic',\n",
              " 'driven_wheels': 'front_wheel_drive',\n",
              " 'number_of_doors': 4.0,\n",
              " 'market_category': nan,\n",
              " 'vehicle_size': 'large',\n",
              " 'vehicle_style': 'passenger_minivan',\n",
              " 'highway_mpg': 25,\n",
              " 'city_mpg': 18,\n",
              " 'popularity': 2031}"
            ]
          },
          "execution_count": 99,
          "metadata": {},
          "output_type": "execute_result"
        }
      ]
    },
    {
      "cell_type": "code",
      "metadata": {
        "id": "2e330ad6",
        "outputId": "f060f157-8df9-4ee7-d9d8-c520e6d47f72"
      },
      "source": [
        "df_small = pd.DataFrame([car])\n",
        "df_small"
      ],
      "id": "2e330ad6",
      "execution_count": null,
      "outputs": [
        {
          "data": {
            "text/html": [
              "<div>\n",
              "<style scoped>\n",
              "    .dataframe tbody tr th:only-of-type {\n",
              "        vertical-align: middle;\n",
              "    }\n",
              "\n",
              "    .dataframe tbody tr th {\n",
              "        vertical-align: top;\n",
              "    }\n",
              "\n",
              "    .dataframe thead th {\n",
              "        text-align: right;\n",
              "    }\n",
              "</style>\n",
              "<table border=\"1\" class=\"dataframe\">\n",
              "  <thead>\n",
              "    <tr style=\"text-align: right;\">\n",
              "      <th></th>\n",
              "      <th>make</th>\n",
              "      <th>model</th>\n",
              "      <th>year</th>\n",
              "      <th>engine_fuel_type</th>\n",
              "      <th>engine_hp</th>\n",
              "      <th>engine_cylinders</th>\n",
              "      <th>transmission_type</th>\n",
              "      <th>driven_wheels</th>\n",
              "      <th>number_of_doors</th>\n",
              "      <th>market_category</th>\n",
              "      <th>vehicle_size</th>\n",
              "      <th>vehicle_style</th>\n",
              "      <th>highway_mpg</th>\n",
              "      <th>city_mpg</th>\n",
              "      <th>popularity</th>\n",
              "    </tr>\n",
              "  </thead>\n",
              "  <tbody>\n",
              "    <tr>\n",
              "      <th>0</th>\n",
              "      <td>toyota</td>\n",
              "      <td>sienna</td>\n",
              "      <td>2015</td>\n",
              "      <td>regular_unleaded</td>\n",
              "      <td>266.0</td>\n",
              "      <td>6.0</td>\n",
              "      <td>automatic</td>\n",
              "      <td>front_wheel_drive</td>\n",
              "      <td>4.0</td>\n",
              "      <td>NaN</td>\n",
              "      <td>large</td>\n",
              "      <td>passenger_minivan</td>\n",
              "      <td>25</td>\n",
              "      <td>18</td>\n",
              "      <td>2031</td>\n",
              "    </tr>\n",
              "  </tbody>\n",
              "</table>\n",
              "</div>"
            ],
            "text/plain": [
              "     make   model  year  engine_fuel_type  engine_hp  engine_cylinders  \\\n",
              "0  toyota  sienna  2015  regular_unleaded      266.0               6.0   \n",
              "\n",
              "  transmission_type      driven_wheels  number_of_doors  market_category  \\\n",
              "0         automatic  front_wheel_drive              4.0              NaN   \n",
              "\n",
              "  vehicle_size      vehicle_style  highway_mpg  city_mpg  popularity  \n",
              "0        large  passenger_minivan           25        18        2031  "
            ]
          },
          "execution_count": 100,
          "metadata": {},
          "output_type": "execute_result"
        }
      ]
    },
    {
      "cell_type": "code",
      "metadata": {
        "id": "11f56d16"
      },
      "source": [
        "X_small = prepare_X(df_small)"
      ],
      "id": "11f56d16",
      "execution_count": null,
      "outputs": []
    },
    {
      "cell_type": "code",
      "metadata": {
        "id": "1f998c6b",
        "outputId": "ec0b8535-43f5-468f-fe6c-79bea729ae04"
      },
      "source": [
        "y_pred = w0 + X_small.dot(w)\n",
        "y_pred = y_pred[0]\n",
        "y_pred"
      ],
      "id": "1f998c6b",
      "execution_count": null,
      "outputs": [
        {
          "data": {
            "text/plain": [
              "10.63249250912739"
            ]
          },
          "execution_count": 102,
          "metadata": {},
          "output_type": "execute_result"
        }
      ]
    },
    {
      "cell_type": "code",
      "metadata": {
        "id": "c25a6a4d",
        "outputId": "71795ec3-55b7-4584-e825-5a5aa21857a2"
      },
      "source": [
        "np.expm1(y_pred)"
      ],
      "id": "c25a6a4d",
      "execution_count": null,
      "outputs": [
        {
          "data": {
            "text/plain": [
              "41459.336786653585"
            ]
          },
          "execution_count": 103,
          "metadata": {},
          "output_type": "execute_result"
        }
      ]
    },
    {
      "cell_type": "code",
      "metadata": {
        "id": "97c61055",
        "outputId": "2d8158bf-d235-4120-a0e6-78b1e3366ac3"
      },
      "source": [
        "np.expm1(y_test[20])"
      ],
      "id": "97c61055",
      "execution_count": null,
      "outputs": [
        {
          "data": {
            "text/plain": [
              "35000.00000000001"
            ]
          },
          "execution_count": 104,
          "metadata": {},
          "output_type": "execute_result"
        }
      ]
    },
    {
      "cell_type": "markdown",
      "metadata": {
        "id": "80619340"
      },
      "source": [
        "## 2.16 Next steps"
      ],
      "id": "80619340"
    },
    {
      "cell_type": "markdown",
      "metadata": {
        "id": "12ae4018"
      },
      "source": [
        "* We included only 5 top features. What happens if we include 10?\n",
        "\n",
        "Other projects\n",
        "\n",
        "* Predict the price of a house - e.g. boston dataset\n",
        "* https://archive.ics.uci.edu/ml/datasets.php?task=reg\n",
        "* https://archive.ics.uci.edu/ml/datasets/Student+Performance"
      ],
      "id": "12ae4018"
    },
    {
      "cell_type": "markdown",
      "metadata": {
        "id": "0396bec8"
      },
      "source": [
        "## 2.17 Summary\n",
        "\n",
        "* EDA - looking at data, finding missing values\n",
        "* Target variable distribution - long tail => bell shaped curve\n",
        "* Validation framework: train/val/test split (helped us detect problems)\n",
        "* Normal equation - not magic, but math\n",
        "* Implemented it with numpy\n",
        "* RMSE to validate our model\n",
        "* Feature engineering: age, categorical features\n",
        "* Regularization to fight numerical instability"
      ],
      "id": "0396bec8"
    },
    {
      "cell_type": "code",
      "metadata": {
        "id": "e7e8c884"
      },
      "source": [
        ""
      ],
      "id": "e7e8c884",
      "execution_count": null,
      "outputs": []
    }
  ]
}