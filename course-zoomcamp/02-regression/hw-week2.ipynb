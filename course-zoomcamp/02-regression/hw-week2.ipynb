{
  "nbformat": 4,
  "nbformat_minor": 5,
  "metadata": {
    "kernelspec": {
      "display_name": "Python 3 (ipykernel)",
      "language": "python",
      "name": "python3"
    },
    "language_info": {
      "codemirror_mode": {
        "name": "ipython",
        "version": 3
      },
      "file_extension": ".py",
      "mimetype": "text/x-python",
      "name": "python",
      "nbconvert_exporter": "python",
      "pygments_lexer": "ipython3",
      "version": "3.8.11"
    },
    "colab": {
      "name": "notebook.ipynb",
      "provenance": []
    }
  },
  "cells": [
    {
      "cell_type": "code",
      "metadata": {
        "colab": {
          "base_uri": "https://localhost:8080/",
          "height": 34
        },
        "id": "3387bee7",
        "outputId": "9014d745-722b-4dcc-dc8c-621de41eca17"
      },
      "source": [
        "%autosave 0"
      ],
      "id": "3387bee7",
      "execution_count": 1,
      "outputs": [
        {
          "output_type": "display_data",
          "data": {
            "application/javascript": [
              "IPython.notebook.set_autosave_interval(0)"
            ]
          },
          "metadata": {}
        },
        {
          "output_type": "stream",
          "name": "stdout",
          "text": [
            "Autosave disabled\n"
          ]
        }
      ]
    },
    {
      "cell_type": "markdown",
      "metadata": {
        "id": "1dabc3e1"
      },
      "source": [
        "## 2. Machine Learning for Regression\n"
      ],
      "id": "1dabc3e1"
    },
    {
      "cell_type": "code",
      "metadata": {
        "scrolled": true,
        "id": "88fa23d1"
      },
      "source": [
        "import pandas as pd\n",
        "import numpy as np"
      ],
      "id": "88fa23d1",
      "execution_count": 2,
      "outputs": []
    },
    {
      "cell_type": "markdown",
      "metadata": {
        "id": "324e4904"
      },
      "source": [
        "## 2.2 Data preparation"
      ],
      "id": "324e4904"
    },
    {
      "cell_type": "code",
      "metadata": {
        "id": "0932bff5"
      },
      "source": [
        "data = 'https://raw.githubusercontent.com/alexeygrigorev/datasets/master/AB_NYC_2019.csv'"
      ],
      "id": "0932bff5",
      "execution_count": 3,
      "outputs": []
    },
    {
      "cell_type": "code",
      "metadata": {
        "colab": {
          "base_uri": "https://localhost:8080/"
        },
        "id": "22ca40d1",
        "outputId": "33e37bd3-6bc5-4a17-b084-2e87123ee20e"
      },
      "source": [
        "!wget $data "
      ],
      "id": "22ca40d1",
      "execution_count": 4,
      "outputs": [
        {
          "output_type": "stream",
          "name": "stdout",
          "text": [
            "--2021-09-19 12:19:11--  https://raw.githubusercontent.com/alexeygrigorev/datasets/master/AB_NYC_2019.csv\n",
            "Resolving raw.githubusercontent.com (raw.githubusercontent.com)... 185.199.110.133, 185.199.109.133, 185.199.108.133, ...\n",
            "Connecting to raw.githubusercontent.com (raw.githubusercontent.com)|185.199.110.133|:443... connected.\n",
            "HTTP request sent, awaiting response... 200 OK\n",
            "Length: 7077973 (6.8M) [text/plain]\n",
            "Saving to: ‘AB_NYC_2019.csv’\n",
            "\n",
            "AB_NYC_2019.csv     100%[===================>]   6.75M  --.-KB/s    in 0.07s   \n",
            "\n",
            "2021-09-19 12:19:12 (102 MB/s) - ‘AB_NYC_2019.csv’ saved [7077973/7077973]\n",
            "\n"
          ]
        }
      ]
    },
    {
      "cell_type": "code",
      "metadata": {
        "id": "60735823"
      },
      "source": [
        "df = pd.read_csv('AB_NYC_2019.csv')"
      ],
      "id": "60735823",
      "execution_count": 29,
      "outputs": []
    },
    {
      "cell_type": "code",
      "metadata": {
        "id": "1767d31a"
      },
      "source": [
        "df.columns = df.columns.str.lower().str.replace(' ', '_')"
      ],
      "id": "1767d31a",
      "execution_count": 40,
      "outputs": []
    },
    {
      "cell_type": "code",
      "metadata": {
        "colab": {
          "base_uri": "https://localhost:8080/",
          "height": 411
        },
        "id": "KzG5o6oi_5Gk",
        "outputId": "f29e1a94-c06a-4615-9be4-a3e81c6cf4af"
      },
      "source": [
        "df.head()"
      ],
      "id": "KzG5o6oi_5Gk",
      "execution_count": 41,
      "outputs": [
        {
          "output_type": "execute_result",
          "data": {
            "text/html": [
              "<div>\n",
              "<style scoped>\n",
              "    .dataframe tbody tr th:only-of-type {\n",
              "        vertical-align: middle;\n",
              "    }\n",
              "\n",
              "    .dataframe tbody tr th {\n",
              "        vertical-align: top;\n",
              "    }\n",
              "\n",
              "    .dataframe thead th {\n",
              "        text-align: right;\n",
              "    }\n",
              "</style>\n",
              "<table border=\"1\" class=\"dataframe\">\n",
              "  <thead>\n",
              "    <tr style=\"text-align: right;\">\n",
              "      <th></th>\n",
              "      <th>id</th>\n",
              "      <th>name</th>\n",
              "      <th>host_id</th>\n",
              "      <th>host_name</th>\n",
              "      <th>neighbourhood_group</th>\n",
              "      <th>neighbourhood</th>\n",
              "      <th>latitude</th>\n",
              "      <th>longitude</th>\n",
              "      <th>room_type</th>\n",
              "      <th>price</th>\n",
              "      <th>minimum_nights</th>\n",
              "      <th>number_of_reviews</th>\n",
              "      <th>last_review</th>\n",
              "      <th>reviews_per_month</th>\n",
              "      <th>calculated_host_listings_count</th>\n",
              "      <th>availability_365</th>\n",
              "    </tr>\n",
              "  </thead>\n",
              "  <tbody>\n",
              "    <tr>\n",
              "      <th>0</th>\n",
              "      <td>2539</td>\n",
              "      <td>Clean &amp; quiet apt home by the park</td>\n",
              "      <td>2787</td>\n",
              "      <td>John</td>\n",
              "      <td>Brooklyn</td>\n",
              "      <td>Kensington</td>\n",
              "      <td>40.64749</td>\n",
              "      <td>-73.97237</td>\n",
              "      <td>Private room</td>\n",
              "      <td>149</td>\n",
              "      <td>1</td>\n",
              "      <td>9</td>\n",
              "      <td>2018-10-19</td>\n",
              "      <td>0.21</td>\n",
              "      <td>6</td>\n",
              "      <td>365</td>\n",
              "    </tr>\n",
              "    <tr>\n",
              "      <th>1</th>\n",
              "      <td>2595</td>\n",
              "      <td>Skylit Midtown Castle</td>\n",
              "      <td>2845</td>\n",
              "      <td>Jennifer</td>\n",
              "      <td>Manhattan</td>\n",
              "      <td>Midtown</td>\n",
              "      <td>40.75362</td>\n",
              "      <td>-73.98377</td>\n",
              "      <td>Entire home/apt</td>\n",
              "      <td>225</td>\n",
              "      <td>1</td>\n",
              "      <td>45</td>\n",
              "      <td>2019-05-21</td>\n",
              "      <td>0.38</td>\n",
              "      <td>2</td>\n",
              "      <td>355</td>\n",
              "    </tr>\n",
              "    <tr>\n",
              "      <th>2</th>\n",
              "      <td>3647</td>\n",
              "      <td>THE VILLAGE OF HARLEM....NEW YORK !</td>\n",
              "      <td>4632</td>\n",
              "      <td>Elisabeth</td>\n",
              "      <td>Manhattan</td>\n",
              "      <td>Harlem</td>\n",
              "      <td>40.80902</td>\n",
              "      <td>-73.94190</td>\n",
              "      <td>Private room</td>\n",
              "      <td>150</td>\n",
              "      <td>3</td>\n",
              "      <td>0</td>\n",
              "      <td>NaN</td>\n",
              "      <td>NaN</td>\n",
              "      <td>1</td>\n",
              "      <td>365</td>\n",
              "    </tr>\n",
              "    <tr>\n",
              "      <th>3</th>\n",
              "      <td>3831</td>\n",
              "      <td>Cozy Entire Floor of Brownstone</td>\n",
              "      <td>4869</td>\n",
              "      <td>LisaRoxanne</td>\n",
              "      <td>Brooklyn</td>\n",
              "      <td>Clinton Hill</td>\n",
              "      <td>40.68514</td>\n",
              "      <td>-73.95976</td>\n",
              "      <td>Entire home/apt</td>\n",
              "      <td>89</td>\n",
              "      <td>1</td>\n",
              "      <td>270</td>\n",
              "      <td>2019-07-05</td>\n",
              "      <td>4.64</td>\n",
              "      <td>1</td>\n",
              "      <td>194</td>\n",
              "    </tr>\n",
              "    <tr>\n",
              "      <th>4</th>\n",
              "      <td>5022</td>\n",
              "      <td>Entire Apt: Spacious Studio/Loft by central park</td>\n",
              "      <td>7192</td>\n",
              "      <td>Laura</td>\n",
              "      <td>Manhattan</td>\n",
              "      <td>East Harlem</td>\n",
              "      <td>40.79851</td>\n",
              "      <td>-73.94399</td>\n",
              "      <td>Entire home/apt</td>\n",
              "      <td>80</td>\n",
              "      <td>10</td>\n",
              "      <td>9</td>\n",
              "      <td>2018-11-19</td>\n",
              "      <td>0.10</td>\n",
              "      <td>1</td>\n",
              "      <td>0</td>\n",
              "    </tr>\n",
              "  </tbody>\n",
              "</table>\n",
              "</div>"
            ],
            "text/plain": [
              "     id  ... availability_365\n",
              "0  2539  ...              365\n",
              "1  2595  ...              355\n",
              "2  3647  ...              365\n",
              "3  3831  ...              194\n",
              "4  5022  ...                0\n",
              "\n",
              "[5 rows x 16 columns]"
            ]
          },
          "metadata": {},
          "execution_count": 41
        }
      ]
    },
    {
      "cell_type": "code",
      "metadata": {
        "id": "072c48d8"
      },
      "source": [
        "for col in strings:\n",
        "    df[col] = df[col].str.lower().str.replace(' ', '_')"
      ],
      "id": "072c48d8",
      "execution_count": 42,
      "outputs": []
    },
    {
      "cell_type": "code",
      "metadata": {
        "colab": {
          "base_uri": "https://localhost:8080/"
        },
        "id": "442cc0e5",
        "outputId": "cd547c2e-a0b0-4ffb-a2ba-65eb7143704a"
      },
      "source": [
        "df.dtypes"
      ],
      "id": "442cc0e5",
      "execution_count": 43,
      "outputs": [
        {
          "output_type": "execute_result",
          "data": {
            "text/plain": [
              "id                                  int64\n",
              "name                               object\n",
              "host_id                             int64\n",
              "host_name                          object\n",
              "neighbourhood_group                object\n",
              "neighbourhood                      object\n",
              "latitude                          float64\n",
              "longitude                         float64\n",
              "room_type                          object\n",
              "price                               int64\n",
              "minimum_nights                      int64\n",
              "number_of_reviews                   int64\n",
              "last_review                        object\n",
              "reviews_per_month                 float64\n",
              "calculated_host_listings_count      int64\n",
              "availability_365                    int64\n",
              "dtype: object"
            ]
          },
          "metadata": {},
          "execution_count": 43
        }
      ]
    },
    {
      "cell_type": "markdown",
      "metadata": {
        "id": "d4a58ec3"
      },
      "source": [
        "## 2.3 Exploratory data analysis"
      ],
      "id": "d4a58ec3"
    },
    {
      "cell_type": "code",
      "metadata": {
        "colab": {
          "base_uri": "https://localhost:8080/"
        },
        "id": "a52bb821",
        "outputId": "25bfb4dd-d838-4326-eced-0f792c159444"
      },
      "source": [
        "for col in df.columns:\n",
        "    print(col)\n",
        "    print(df[col].unique()[:5])\n",
        "    print(df[col].nunique())\n",
        "    print()"
      ],
      "id": "a52bb821",
      "execution_count": 44,
      "outputs": [
        {
          "output_type": "stream",
          "name": "stdout",
          "text": [
            "id\n",
            "[2539 2595 3647 3831 5022]\n",
            "48895\n",
            "\n",
            "name\n",
            "['clean_&_quiet_apt_home_by_the_park' 'skylit_midtown_castle'\n",
            " 'the_village_of_harlem....new_york_!' 'cozy_entire_floor_of_brownstone'\n",
            " 'entire_apt:_spacious_studio/loft_by_central_park']\n",
            "47486\n",
            "\n",
            "host_id\n",
            "[2787 2845 4632 4869 7192]\n",
            "37457\n",
            "\n",
            "host_name\n",
            "['john' 'jennifer' 'elisabeth' 'lisaroxanne' 'laura']\n",
            "11428\n",
            "\n",
            "neighbourhood_group\n",
            "['brooklyn' 'manhattan' 'queens' 'staten_island' 'bronx']\n",
            "5\n",
            "\n",
            "neighbourhood\n",
            "['kensington' 'midtown' 'harlem' 'clinton_hill' 'east_harlem']\n",
            "221\n",
            "\n",
            "latitude\n",
            "[40.64749 40.75362 40.80902 40.68514 40.79851]\n",
            "19048\n",
            "\n",
            "longitude\n",
            "[-73.97237 -73.98377 -73.9419  -73.95976 -73.94399]\n",
            "14718\n",
            "\n",
            "room_type\n",
            "['private_room' 'entire_home/apt' 'shared_room']\n",
            "3\n",
            "\n",
            "price\n",
            "[149 225 150  89  80]\n",
            "674\n",
            "\n",
            "minimum_nights\n",
            "[ 1  3 10 45  2]\n",
            "109\n",
            "\n",
            "number_of_reviews\n",
            "[  9  45   0 270  74]\n",
            "394\n",
            "\n",
            "last_review\n",
            "['2018-10-19' '2019-05-21' nan '2019-07-05' '2018-11-19']\n",
            "1764\n",
            "\n",
            "reviews_per_month\n",
            "[0.21 0.38  nan 4.64 0.1 ]\n",
            "937\n",
            "\n",
            "calculated_host_listings_count\n",
            "[6 2 1 4 3]\n",
            "47\n",
            "\n",
            "availability_365\n",
            "[365 355 194   0 129]\n",
            "366\n",
            "\n"
          ]
        }
      ]
    },
    {
      "cell_type": "code",
      "metadata": {
        "colab": {
          "base_uri": "https://localhost:8080/",
          "height": 456
        },
        "id": "3fea9ab8",
        "outputId": "c6908f4a-710c-4d55-adfc-c228e052bb23"
      },
      "source": [
        "df"
      ],
      "id": "3fea9ab8",
      "execution_count": 45,
      "outputs": [
        {
          "output_type": "execute_result",
          "data": {
            "text/html": [
              "<div>\n",
              "<style scoped>\n",
              "    .dataframe tbody tr th:only-of-type {\n",
              "        vertical-align: middle;\n",
              "    }\n",
              "\n",
              "    .dataframe tbody tr th {\n",
              "        vertical-align: top;\n",
              "    }\n",
              "\n",
              "    .dataframe thead th {\n",
              "        text-align: right;\n",
              "    }\n",
              "</style>\n",
              "<table border=\"1\" class=\"dataframe\">\n",
              "  <thead>\n",
              "    <tr style=\"text-align: right;\">\n",
              "      <th></th>\n",
              "      <th>id</th>\n",
              "      <th>name</th>\n",
              "      <th>host_id</th>\n",
              "      <th>host_name</th>\n",
              "      <th>neighbourhood_group</th>\n",
              "      <th>neighbourhood</th>\n",
              "      <th>latitude</th>\n",
              "      <th>longitude</th>\n",
              "      <th>room_type</th>\n",
              "      <th>price</th>\n",
              "      <th>minimum_nights</th>\n",
              "      <th>number_of_reviews</th>\n",
              "      <th>last_review</th>\n",
              "      <th>reviews_per_month</th>\n",
              "      <th>calculated_host_listings_count</th>\n",
              "      <th>availability_365</th>\n",
              "    </tr>\n",
              "  </thead>\n",
              "  <tbody>\n",
              "    <tr>\n",
              "      <th>0</th>\n",
              "      <td>2539</td>\n",
              "      <td>clean_&amp;_quiet_apt_home_by_the_park</td>\n",
              "      <td>2787</td>\n",
              "      <td>john</td>\n",
              "      <td>brooklyn</td>\n",
              "      <td>kensington</td>\n",
              "      <td>40.64749</td>\n",
              "      <td>-73.97237</td>\n",
              "      <td>private_room</td>\n",
              "      <td>149</td>\n",
              "      <td>1</td>\n",
              "      <td>9</td>\n",
              "      <td>2018-10-19</td>\n",
              "      <td>0.21</td>\n",
              "      <td>6</td>\n",
              "      <td>365</td>\n",
              "    </tr>\n",
              "    <tr>\n",
              "      <th>1</th>\n",
              "      <td>2595</td>\n",
              "      <td>skylit_midtown_castle</td>\n",
              "      <td>2845</td>\n",
              "      <td>jennifer</td>\n",
              "      <td>manhattan</td>\n",
              "      <td>midtown</td>\n",
              "      <td>40.75362</td>\n",
              "      <td>-73.98377</td>\n",
              "      <td>entire_home/apt</td>\n",
              "      <td>225</td>\n",
              "      <td>1</td>\n",
              "      <td>45</td>\n",
              "      <td>2019-05-21</td>\n",
              "      <td>0.38</td>\n",
              "      <td>2</td>\n",
              "      <td>355</td>\n",
              "    </tr>\n",
              "    <tr>\n",
              "      <th>2</th>\n",
              "      <td>3647</td>\n",
              "      <td>the_village_of_harlem....new_york_!</td>\n",
              "      <td>4632</td>\n",
              "      <td>elisabeth</td>\n",
              "      <td>manhattan</td>\n",
              "      <td>harlem</td>\n",
              "      <td>40.80902</td>\n",
              "      <td>-73.94190</td>\n",
              "      <td>private_room</td>\n",
              "      <td>150</td>\n",
              "      <td>3</td>\n",
              "      <td>0</td>\n",
              "      <td>NaN</td>\n",
              "      <td>NaN</td>\n",
              "      <td>1</td>\n",
              "      <td>365</td>\n",
              "    </tr>\n",
              "    <tr>\n",
              "      <th>3</th>\n",
              "      <td>3831</td>\n",
              "      <td>cozy_entire_floor_of_brownstone</td>\n",
              "      <td>4869</td>\n",
              "      <td>lisaroxanne</td>\n",
              "      <td>brooklyn</td>\n",
              "      <td>clinton_hill</td>\n",
              "      <td>40.68514</td>\n",
              "      <td>-73.95976</td>\n",
              "      <td>entire_home/apt</td>\n",
              "      <td>89</td>\n",
              "      <td>1</td>\n",
              "      <td>270</td>\n",
              "      <td>2019-07-05</td>\n",
              "      <td>4.64</td>\n",
              "      <td>1</td>\n",
              "      <td>194</td>\n",
              "    </tr>\n",
              "    <tr>\n",
              "      <th>4</th>\n",
              "      <td>5022</td>\n",
              "      <td>entire_apt:_spacious_studio/loft_by_central_park</td>\n",
              "      <td>7192</td>\n",
              "      <td>laura</td>\n",
              "      <td>manhattan</td>\n",
              "      <td>east_harlem</td>\n",
              "      <td>40.79851</td>\n",
              "      <td>-73.94399</td>\n",
              "      <td>entire_home/apt</td>\n",
              "      <td>80</td>\n",
              "      <td>10</td>\n",
              "      <td>9</td>\n",
              "      <td>2018-11-19</td>\n",
              "      <td>0.10</td>\n",
              "      <td>1</td>\n",
              "      <td>0</td>\n",
              "    </tr>\n",
              "    <tr>\n",
              "      <th>...</th>\n",
              "      <td>...</td>\n",
              "      <td>...</td>\n",
              "      <td>...</td>\n",
              "      <td>...</td>\n",
              "      <td>...</td>\n",
              "      <td>...</td>\n",
              "      <td>...</td>\n",
              "      <td>...</td>\n",
              "      <td>...</td>\n",
              "      <td>...</td>\n",
              "      <td>...</td>\n",
              "      <td>...</td>\n",
              "      <td>...</td>\n",
              "      <td>...</td>\n",
              "      <td>...</td>\n",
              "      <td>...</td>\n",
              "    </tr>\n",
              "    <tr>\n",
              "      <th>48890</th>\n",
              "      <td>36484665</td>\n",
              "      <td>charming_one_bedroom_-_newly_renovated_rowhouse</td>\n",
              "      <td>8232441</td>\n",
              "      <td>sabrina</td>\n",
              "      <td>brooklyn</td>\n",
              "      <td>bedford-stuyvesant</td>\n",
              "      <td>40.67853</td>\n",
              "      <td>-73.94995</td>\n",
              "      <td>private_room</td>\n",
              "      <td>70</td>\n",
              "      <td>2</td>\n",
              "      <td>0</td>\n",
              "      <td>NaN</td>\n",
              "      <td>NaN</td>\n",
              "      <td>2</td>\n",
              "      <td>9</td>\n",
              "    </tr>\n",
              "    <tr>\n",
              "      <th>48891</th>\n",
              "      <td>36485057</td>\n",
              "      <td>affordable_room_in_bushwick/east_williamsburg</td>\n",
              "      <td>6570630</td>\n",
              "      <td>marisol</td>\n",
              "      <td>brooklyn</td>\n",
              "      <td>bushwick</td>\n",
              "      <td>40.70184</td>\n",
              "      <td>-73.93317</td>\n",
              "      <td>private_room</td>\n",
              "      <td>40</td>\n",
              "      <td>4</td>\n",
              "      <td>0</td>\n",
              "      <td>NaN</td>\n",
              "      <td>NaN</td>\n",
              "      <td>2</td>\n",
              "      <td>36</td>\n",
              "    </tr>\n",
              "    <tr>\n",
              "      <th>48892</th>\n",
              "      <td>36485431</td>\n",
              "      <td>sunny_studio_at_historical_neighborhood</td>\n",
              "      <td>23492952</td>\n",
              "      <td>ilgar_&amp;_aysel</td>\n",
              "      <td>manhattan</td>\n",
              "      <td>harlem</td>\n",
              "      <td>40.81475</td>\n",
              "      <td>-73.94867</td>\n",
              "      <td>entire_home/apt</td>\n",
              "      <td>115</td>\n",
              "      <td>10</td>\n",
              "      <td>0</td>\n",
              "      <td>NaN</td>\n",
              "      <td>NaN</td>\n",
              "      <td>1</td>\n",
              "      <td>27</td>\n",
              "    </tr>\n",
              "    <tr>\n",
              "      <th>48893</th>\n",
              "      <td>36485609</td>\n",
              "      <td>43rd_st._time_square-cozy_single_bed</td>\n",
              "      <td>30985759</td>\n",
              "      <td>taz</td>\n",
              "      <td>manhattan</td>\n",
              "      <td>hell's_kitchen</td>\n",
              "      <td>40.75751</td>\n",
              "      <td>-73.99112</td>\n",
              "      <td>shared_room</td>\n",
              "      <td>55</td>\n",
              "      <td>1</td>\n",
              "      <td>0</td>\n",
              "      <td>NaN</td>\n",
              "      <td>NaN</td>\n",
              "      <td>6</td>\n",
              "      <td>2</td>\n",
              "    </tr>\n",
              "    <tr>\n",
              "      <th>48894</th>\n",
              "      <td>36487245</td>\n",
              "      <td>trendy_duplex_in_the_very_heart_of_hell's_kitchen</td>\n",
              "      <td>68119814</td>\n",
              "      <td>christophe</td>\n",
              "      <td>manhattan</td>\n",
              "      <td>hell's_kitchen</td>\n",
              "      <td>40.76404</td>\n",
              "      <td>-73.98933</td>\n",
              "      <td>private_room</td>\n",
              "      <td>90</td>\n",
              "      <td>7</td>\n",
              "      <td>0</td>\n",
              "      <td>NaN</td>\n",
              "      <td>NaN</td>\n",
              "      <td>1</td>\n",
              "      <td>23</td>\n",
              "    </tr>\n",
              "  </tbody>\n",
              "</table>\n",
              "<p>48895 rows × 16 columns</p>\n",
              "</div>"
            ],
            "text/plain": [
              "             id  ... availability_365\n",
              "0          2539  ...              365\n",
              "1          2595  ...              355\n",
              "2          3647  ...              365\n",
              "3          3831  ...              194\n",
              "4          5022  ...                0\n",
              "...         ...  ...              ...\n",
              "48890  36484665  ...                9\n",
              "48891  36485057  ...               36\n",
              "48892  36485431  ...               27\n",
              "48893  36485609  ...                2\n",
              "48894  36487245  ...               23\n",
              "\n",
              "[48895 rows x 16 columns]"
            ]
          },
          "metadata": {},
          "execution_count": 45
        }
      ]
    },
    {
      "cell_type": "markdown",
      "metadata": {
        "id": "ecd4ec19"
      },
      "source": [
        "Distribution of price"
      ],
      "id": "ecd4ec19"
    },
    {
      "cell_type": "code",
      "metadata": {
        "id": "8990ba9f"
      },
      "source": [
        "import matplotlib.pyplot as plt\n",
        "import seaborn as sns\n",
        "\n",
        "%matplotlib inline"
      ],
      "id": "8990ba9f",
      "execution_count": 46,
      "outputs": []
    },
    {
      "cell_type": "markdown",
      "metadata": {
        "id": "V-sFXEHUFz3_"
      },
      "source": [
        "Look at the price variable. Does it have a long tail?"
      ],
      "id": "V-sFXEHUFz3_"
    },
    {
      "cell_type": "code",
      "metadata": {
        "colab": {
          "base_uri": "https://localhost:8080/",
          "height": 296
        },
        "id": "cf531f6e",
        "outputId": "86f4bddc-1a34-4bdb-f1f7-3f1fb98df52c"
      },
      "source": [
        "sns.histplot(df.price, bins=100)"
      ],
      "id": "cf531f6e",
      "execution_count": 47,
      "outputs": [
        {
          "output_type": "execute_result",
          "data": {
            "text/plain": [
              "<matplotlib.axes._subplots.AxesSubplot at 0x7eff3bb7a9d0>"
            ]
          },
          "metadata": {},
          "execution_count": 47
        },
        {
          "output_type": "display_data",
          "data": {
            "image/png": "[encoded data removed]",
            "text/plain": [
              "<Figure size 432x288 with 1 Axes>"
            ]
          },
          "metadata": {
            "needs_background": "light"
          }
        }
      ]
    },
    {
      "cell_type": "code",
      "metadata": {
        "colab": {
          "base_uri": "https://localhost:8080/",
          "height": 296
        },
        "id": "d09c6b9e",
        "outputId": "e79d996f-2b21-4cd2-dc8f-37d18cbfc88e"
      },
      "source": [
        "sns.histplot(df.price[df.price > 1000], bins=100)"
      ],
      "id": "d09c6b9e",
      "execution_count": 48,
      "outputs": [
        {
          "output_type": "execute_result",
          "data": {
            "text/plain": [
              "<matplotlib.axes._subplots.AxesSubplot at 0x7eff3bd46110>"
            ]
          },
          "metadata": {},
          "execution_count": 48
        },
        {
          "output_type": "display_data",
          "data": {
            "image/png": "[encoded data removed]",
            "text/plain": [
              "<Figure size 432x288 with 1 Axes>"
            ]
          },
          "metadata": {
            "needs_background": "light"
          }
        }
      ]
    },
    {
      "cell_type": "markdown",
      "metadata": {
        "id": "05OVYTLdF3D6"
      },
      "source": [
        "Yes it has long tail."
      ],
      "id": "05OVYTLdF3D6"
    },
    {
      "cell_type": "code",
      "metadata": {
        "id": "fba1c472"
      },
      "source": [
        "price_logs = np.log1p(df.price)"
      ],
      "id": "fba1c472",
      "execution_count": 49,
      "outputs": []
    },
    {
      "cell_type": "code",
      "metadata": {
        "colab": {
          "base_uri": "https://localhost:8080/",
          "height": 300
        },
        "id": "7b4cba42",
        "outputId": "4c27331f-f2bf-4507-e9f0-f4f4125fb63a"
      },
      "source": [
        "sns.histplot(price_logs, bins=100)"
      ],
      "id": "7b4cba42",
      "execution_count": 50,
      "outputs": [
        {
          "output_type": "execute_result",
          "data": {
            "text/plain": [
              "<matplotlib.axes._subplots.AxesSubplot at 0x7eff3be098d0>"
            ]
          },
          "metadata": {},
          "execution_count": 50
        },
        {
          "output_type": "display_data",
          "data": {
            "image/png": "[encoded data removed]",
            "text/plain": [
              "<Figure size 432x288 with 1 Axes>"
            ]
          },
          "metadata": {
            "needs_background": "light"
          }
        }
      ]
    },
    {
      "cell_type": "markdown",
      "metadata": {
        "id": "38fff064"
      },
      "source": [
        "Missing values"
      ],
      "id": "38fff064"
    },
    {
      "cell_type": "code",
      "metadata": {
        "colab": {
          "base_uri": "https://localhost:8080/"
        },
        "id": "9bb8912a",
        "outputId": "c465855c-96d3-48eb-8cd1-a9bfa15812b2"
      },
      "source": [
        "df.isnull().sum()"
      ],
      "id": "9bb8912a",
      "execution_count": 39,
      "outputs": [
        {
          "output_type": "execute_result",
          "data": {
            "text/plain": [
              "id                                    0\n",
              "name                                 16\n",
              "host_id                               0\n",
              "host_name                            21\n",
              "neighbourhood_group                   0\n",
              "neighbourhood                         0\n",
              "latitude                              0\n",
              "longitude                             0\n",
              "room_type                             0\n",
              "price                                 0\n",
              "minimum_nights                        0\n",
              "number_of_reviews                     0\n",
              "last_review                       10052\n",
              "reviews_per_month                 10052\n",
              "calculated_host_listings_count        0\n",
              "availability_365                      0\n",
              "dtype: int64"
            ]
          },
          "metadata": {},
          "execution_count": 39
        }
      ]
    },
    {
      "cell_type": "markdown",
      "metadata": {
        "id": "BvxuGAz4GOZw"
      },
      "source": [
        "**Question 1**: Number of missing values \\\n",
        "Find a feature with missing values. How many missing values does it have?"
      ],
      "id": "BvxuGAz4GOZw"
    },
    {
      "cell_type": "code",
      "metadata": {
        "id": "Iu9I47aDGLsp"
      },
      "source": [
        "df_hw=df[['latitude',\n",
        "'longitude',\n",
        "'price',\n",
        "'minimum_nights',\n",
        "'number_of_reviews',\n",
        "'reviews_per_month',\n",
        "'calculated_host_listings_count',\n",
        "'availability_365']]"
      ],
      "id": "Iu9I47aDGLsp",
      "execution_count": 52,
      "outputs": []
    },
    {
      "cell_type": "code",
      "metadata": {
        "colab": {
          "base_uri": "https://localhost:8080/"
        },
        "id": "f7br-eVLHFTo",
        "outputId": "ccb59974-a151-4c8c-8e63-6462ac90825f"
      },
      "source": [
        "df_hw.isnull().sum()"
      ],
      "id": "f7br-eVLHFTo",
      "execution_count": 53,
      "outputs": [
        {
          "output_type": "execute_result",
          "data": {
            "text/plain": [
              "latitude                              0\n",
              "longitude                             0\n",
              "price                                 0\n",
              "minimum_nights                        0\n",
              "number_of_reviews                     0\n",
              "reviews_per_month                 10052\n",
              "calculated_host_listings_count        0\n",
              "availability_365                      0\n",
              "dtype: int64"
            ]
          },
          "metadata": {},
          "execution_count": 53
        }
      ]
    },
    {
      "cell_type": "markdown",
      "metadata": {
        "id": "4R5KyeSAHLV1"
      },
      "source": [
        "reviews_per_month - 10052"
      ],
      "id": "4R5KyeSAHLV1"
    },
    {
      "cell_type": "markdown",
      "metadata": {
        "id": "YhBmDbIJJKUW"
      },
      "source": [
        "**Question 2** \\\n",
        "What's the median (50% percentile) for variable 'minimum_nights'?"
      ],
      "id": "YhBmDbIJJKUW"
    },
    {
      "cell_type": "code",
      "metadata": {
        "colab": {
          "base_uri": "https://localhost:8080/"
        },
        "id": "K22HE_DvJPdF",
        "outputId": "ce591728-5a11-473a-a8f6-ee6247afcfb0"
      },
      "source": [
        "df_hw.minimum_nights.mean()"
      ],
      "id": "K22HE_DvJPdF",
      "execution_count": 136,
      "outputs": [
        {
          "output_type": "execute_result",
          "data": {
            "text/plain": [
              "7.029962163820431"
            ]
          },
          "metadata": {},
          "execution_count": 136
        }
      ]
    },
    {
      "cell_type": "markdown",
      "metadata": {
        "id": "x1GZn3nxJrhU"
      },
      "source": [
        "**Split the data** \\\n",
        "*   Shuffle the initial dataset, use seed 42.\n",
        "*   Split your data in train/val/test sets, with 60%/20%/20% distribution.\n",
        "*   Make sure that the target value ('price') is not in your dataframe.\n",
        "*   Apply the log transformation to the price variable using the np.log1p() function.\n",
        "\n"
      ],
      "id": "x1GZn3nxJrhU"
    },
    {
      "cell_type": "code",
      "metadata": {
        "id": "d6b9dd3b"
      },
      "source": [
        "n = len(df_hw)\n",
        "\n",
        "n_val = int(n * 0.2)\n",
        "n_test = int(n * 0.2)\n",
        "n_train = n - n_val - n_test"
      ],
      "id": "d6b9dd3b",
      "execution_count": 187,
      "outputs": []
    },
    {
      "cell_type": "code",
      "metadata": {
        "colab": {
          "base_uri": "https://localhost:8080/"
        },
        "id": "f0fa17a6",
        "outputId": "b3c876f4-2363-4b64-9ebd-b7023733b61d"
      },
      "source": [
        "n_val, n_test, n_train"
      ],
      "id": "f0fa17a6",
      "execution_count": 188,
      "outputs": [
        {
          "output_type": "execute_result",
          "data": {
            "text/plain": [
              "(9779, 9779, 29337)"
            ]
          },
          "metadata": {},
          "execution_count": 188
        }
      ]
    },
    {
      "cell_type": "code",
      "metadata": {
        "id": "737ffe12"
      },
      "source": [
        "idx = np.arange(n)"
      ],
      "id": "737ffe12",
      "execution_count": 189,
      "outputs": []
    },
    {
      "cell_type": "code",
      "metadata": {
        "id": "9364ed34"
      },
      "source": [
        "np.random.seed(42)\n",
        "np.random.shuffle(idx)"
      ],
      "id": "9364ed34",
      "execution_count": 190,
      "outputs": []
    },
    {
      "cell_type": "code",
      "metadata": {
        "id": "379e47a5"
      },
      "source": [
        "df_train = df_hw.iloc[idx[:n_train]]\n",
        "df_val = df_hw.iloc[idx[n_train:n_train+n_val]]\n",
        "df_test = df_hw.iloc[idx[n_train+n_val:]]"
      ],
      "id": "379e47a5",
      "execution_count": 191,
      "outputs": []
    },
    {
      "cell_type": "code",
      "metadata": {
        "colab": {
          "base_uri": "https://localhost:8080/",
          "height": 224
        },
        "id": "7993cad8",
        "outputId": "49c1b6d5-ad25-4e7a-efcb-434d3c629f65"
      },
      "source": [
        "df_train.head()"
      ],
      "id": "7993cad8",
      "execution_count": 192,
      "outputs": [
        {
          "output_type": "execute_result",
          "data": {
            "text/html": [
              "<div>\n",
              "<style scoped>\n",
              "    .dataframe tbody tr th:only-of-type {\n",
              "        vertical-align: middle;\n",
              "    }\n",
              "\n",
              "    .dataframe tbody tr th {\n",
              "        vertical-align: top;\n",
              "    }\n",
              "\n",
              "    .dataframe thead th {\n",
              "        text-align: right;\n",
              "    }\n",
              "</style>\n",
              "<table border=\"1\" class=\"dataframe\">\n",
              "  <thead>\n",
              "    <tr style=\"text-align: right;\">\n",
              "      <th></th>\n",
              "      <th>latitude</th>\n",
              "      <th>longitude</th>\n",
              "      <th>price</th>\n",
              "      <th>minimum_nights</th>\n",
              "      <th>number_of_reviews</th>\n",
              "      <th>reviews_per_month</th>\n",
              "      <th>calculated_host_listings_count</th>\n",
              "      <th>availability_365</th>\n",
              "    </tr>\n",
              "  </thead>\n",
              "  <tbody>\n",
              "    <tr>\n",
              "      <th>879</th>\n",
              "      <td>40.64354</td>\n",
              "      <td>-73.97777</td>\n",
              "      <td>89</td>\n",
              "      <td>3</td>\n",
              "      <td>62</td>\n",
              "      <td>0.71</td>\n",
              "      <td>1</td>\n",
              "      <td>189</td>\n",
              "    </tr>\n",
              "    <tr>\n",
              "      <th>44383</th>\n",
              "      <td>40.70666</td>\n",
              "      <td>-73.90779</td>\n",
              "      <td>30</td>\n",
              "      <td>21</td>\n",
              "      <td>0</td>\n",
              "      <td>NaN</td>\n",
              "      <td>1</td>\n",
              "      <td>73</td>\n",
              "    </tr>\n",
              "    <tr>\n",
              "      <th>15394</th>\n",
              "      <td>40.76116</td>\n",
              "      <td>-73.99016</td>\n",
              "      <td>120</td>\n",
              "      <td>2</td>\n",
              "      <td>17</td>\n",
              "      <td>0.43</td>\n",
              "      <td>1</td>\n",
              "      <td>0</td>\n",
              "    </tr>\n",
              "    <tr>\n",
              "      <th>43230</th>\n",
              "      <td>40.70763</td>\n",
              "      <td>-74.01050</td>\n",
              "      <td>470</td>\n",
              "      <td>2</td>\n",
              "      <td>5</td>\n",
              "      <td>1.88</td>\n",
              "      <td>327</td>\n",
              "      <td>272</td>\n",
              "    </tr>\n",
              "    <tr>\n",
              "      <th>16332</th>\n",
              "      <td>40.79658</td>\n",
              "      <td>-73.93287</td>\n",
              "      <td>199</td>\n",
              "      <td>2</td>\n",
              "      <td>30</td>\n",
              "      <td>0.80</td>\n",
              "      <td>1</td>\n",
              "      <td>30</td>\n",
              "    </tr>\n",
              "  </tbody>\n",
              "</table>\n",
              "</div>"
            ],
            "text/plain": [
              "       latitude  longitude  ...  calculated_host_listings_count  availability_365\n",
              "879    40.64354  -73.97777  ...                               1               189\n",
              "44383  40.70666  -73.90779  ...                               1                73\n",
              "15394  40.76116  -73.99016  ...                               1                 0\n",
              "43230  40.70763  -74.01050  ...                             327               272\n",
              "16332  40.79658  -73.93287  ...                               1                30\n",
              "\n",
              "[5 rows x 8 columns]"
            ]
          },
          "metadata": {},
          "execution_count": 192
        }
      ]
    },
    {
      "cell_type": "code",
      "metadata": {
        "colab": {
          "base_uri": "https://localhost:8080/"
        },
        "id": "43b92a69",
        "outputId": "93ca5866-dafc-4725-9c47-6a32b332a1d2"
      },
      "source": [
        "len(df_train), len(df_val), len(df_test)"
      ],
      "id": "43b92a69",
      "execution_count": 193,
      "outputs": [
        {
          "output_type": "execute_result",
          "data": {
            "text/plain": [
              "(29337, 9779, 9779)"
            ]
          },
          "metadata": {},
          "execution_count": 193
        }
      ]
    },
    {
      "cell_type": "code",
      "metadata": {
        "id": "a46b5068"
      },
      "source": [
        "df_train = df_train.reset_index(drop=True)\n",
        "df_val = df_val.reset_index(drop=True)\n",
        "df_test = df_test.reset_index(drop=True)"
      ],
      "id": "a46b5068",
      "execution_count": 194,
      "outputs": []
    },
    {
      "cell_type": "code",
      "metadata": {
        "id": "200cd5fc"
      },
      "source": [
        "y_train = np.log1p(df_train.price.values)\n",
        "y_val = np.log1p(df_val.price.values)\n",
        "y_test = np.log1p(df_test.price.values)"
      ],
      "id": "200cd5fc",
      "execution_count": 195,
      "outputs": []
    },
    {
      "cell_type": "code",
      "metadata": {
        "id": "94bef075"
      },
      "source": [
        "del df_train['price']\n",
        "del df_val['price']\n",
        "del df_test['price']"
      ],
      "id": "94bef075",
      "execution_count": 196,
      "outputs": []
    },
    {
      "cell_type": "code",
      "metadata": {
        "colab": {
          "base_uri": "https://localhost:8080/"
        },
        "id": "22ac1a3a",
        "outputId": "f16324f0-4b56-489a-d9cb-d5de3ccb1411"
      },
      "source": [
        "df_train.iloc[10]"
      ],
      "id": "22ac1a3a",
      "execution_count": 197,
      "outputs": [
        {
          "output_type": "execute_result",
          "data": {
            "text/plain": [
              "latitude                           40.75078\n",
              "longitude                         -73.87949\n",
              "minimum_nights                      1.00000\n",
              "number_of_reviews                   4.00000\n",
              "reviews_per_month                   2.11000\n",
              "calculated_host_listings_count      4.00000\n",
              "availability_365                  354.00000\n",
              "Name: 10, dtype: float64"
            ]
          },
          "metadata": {},
          "execution_count": 197
        }
      ]
    },
    {
      "cell_type": "code",
      "metadata": {
        "id": "a16334e0"
      },
      "source": [
        "def train_linear_regression(X, y):\n",
        "    ones = np.ones(X.shape[0])\n",
        "    X = np.column_stack([ones, X])\n",
        "\n",
        "    XTX = X.T.dot(X)\n",
        "    XTX_inv = np.linalg.inv(XTX)\n",
        "    w_full = XTX_inv.dot(X.T).dot(y)\n",
        "    \n",
        "    return w_full[0], w_full[1:]"
      ],
      "id": "a16334e0",
      "execution_count": 198,
      "outputs": []
    },
    {
      "cell_type": "markdown",
      "metadata": {
        "id": "v9UQimkqQY1G"
      },
      "source": [
        "fillna = zero"
      ],
      "id": "v9UQimkqQY1G"
    },
    {
      "cell_type": "code",
      "metadata": {
        "scrolled": true,
        "id": "7a612a86"
      },
      "source": [
        "df_train_zero = df_train\n",
        "df_train_zero['reviews_per_month'].fillna(0,inplace=True)\n",
        "X_train_zero = df_train_zero\n",
        "df_val_zero = df_val\n",
        "df_val_zero['reviews_per_month'].fillna(0,inplace=True)\n",
        "x_val_zero = df_val_zero\n",
        "w0_zero, w_zero = train_linear_regression(X_train_zero, y_train)\n",
        "y_pred_zero = w0_zero + x_val_zero.dot(w_zero)"
      ],
      "id": "7a612a86",
      "execution_count": 199,
      "outputs": []
    },
    {
      "cell_type": "markdown",
      "metadata": {
        "id": "DJFEQJIlT7Sl"
      },
      "source": [
        "fillna = mean"
      ],
      "id": "DJFEQJIlT7Sl"
    },
    {
      "cell_type": "code",
      "metadata": {
        "id": "bcc41fd3"
      },
      "source": [
        "df_train_mean = df_train\n",
        "df_train_mean['reviews_per_month'].fillna(df_train['reviews_per_month'].mean(),inplace=True)\n",
        "X_train_mean = df_train_mean\n",
        "df_val_mean = df_val\n",
        "df_val_mean['reviews_per_month'].fillna(df_train['reviews_per_month'].mean(),inplace=True)\n",
        "x_val_mean = df_val_mean\n",
        "w0_mean, w_mean = train_linear_regression(X_train_mean, y_train)\n",
        "y_pred_mean = w0_mean + x_val_mean.dot(w_mean)"
      ],
      "id": "bcc41fd3",
      "execution_count": 200,
      "outputs": []
    },
    {
      "cell_type": "code",
      "metadata": {
        "colab": {
          "base_uri": "https://localhost:8080/",
          "height": 282
        },
        "id": "533319d7",
        "outputId": "26f475c3-1023-447e-feea-fb8cb7b2344f"
      },
      "source": [
        "sns.histplot(y_pred_mean, color='red', alpha=0.2, bins=50)\n",
        "sns.histplot(y_pred_zero, color='green', alpha=0.2, bins=50)\n",
        "sns.histplot(y_val, color='blue', alpha=0.5, bins=50)"
      ],
      "id": "533319d7",
      "execution_count": 201,
      "outputs": [
        {
          "output_type": "execute_result",
          "data": {
            "text/plain": [
              "<matplotlib.axes._subplots.AxesSubplot at 0x7eff3119ef50>"
            ]
          },
          "metadata": {},
          "execution_count": 201
        },
        {
          "output_type": "display_data",
          "data": {
            "image/png": "[encoded data removed]",
            "text/plain": [
              "<Figure size 432x288 with 1 Axes>"
            ]
          },
          "metadata": {
            "needs_background": "light"
          }
        }
      ]
    },
    {
      "cell_type": "code",
      "metadata": {
        "id": "4583f105"
      },
      "source": [
        "def rmse(y, y_pred):\n",
        "    se = (y - y_pred) ** 2\n",
        "    mse = se.mean()\n",
        "    return np.sqrt(mse)"
      ],
      "id": "4583f105",
      "execution_count": 202,
      "outputs": []
    },
    {
      "cell_type": "code",
      "metadata": {
        "colab": {
          "base_uri": "https://localhost:8080/"
        },
        "id": "96d11b4c",
        "outputId": "e87c81f6-a3c1-418a-86b5-ae9c1adcdf40"
      },
      "source": [
        "print('zero - ', rmse(y_val, y_pred_zero), '\\n'\n",
        "      'mean - ', rmse(y_val, y_pred_mean))"
      ],
      "id": "96d11b4c",
      "execution_count": 203,
      "outputs": [
        {
          "output_type": "stream",
          "name": "stdout",
          "text": [
            "zero -  0.6430337788394748 \n",
            "mean -  0.6430337788394748\n"
          ]
        }
      ]
    },
    {
      "cell_type": "markdown",
      "metadata": {
        "id": "gl_j7zMOWA3C"
      },
      "source": [
        "Question 4\n",
        "*   Now let's train a regularized linear regression.\n",
        "*   For this question, fill the NAs with 0.\n",
        "*   Try different values of r from this list: [0, 0.000001, 0.0001, 0.001, 0.01, 0.1, 1, 5, 10].\n",
        "*   Use RMSE to evaluate the model on the validation dataset.\n",
        "*   Round the RMSE scores to 2 decimal digits.\n",
        "*   Which r gives the best RMSE? \n",
        "\n",
        "If there are multiple options, select the smallest r."
      ],
      "id": "gl_j7zMOWA3C"
    },
    {
      "cell_type": "code",
      "metadata": {
        "id": "d6d67690"
      },
      "source": [
        "def train_linear_regression_reg(X, y, r=0.001):\n",
        "    ones = np.ones(X.shape[0])\n",
        "    X = np.column_stack([ones, X])\n",
        "\n",
        "    XTX = X.T.dot(X)\n",
        "    XTX = XTX + r * np.eye(XTX.shape[0])\n",
        "\n",
        "    XTX_inv = np.linalg.inv(XTX)\n",
        "    w_full = XTX_inv.dot(X.T).dot(y)\n",
        "    \n",
        "    return w_full[0], w_full[1:]"
      ],
      "id": "d6d67690",
      "execution_count": 125,
      "outputs": []
    },
    {
      "cell_type": "code",
      "metadata": {
        "colab": {
          "base_uri": "https://localhost:8080/"
        },
        "id": "0c30aacf",
        "outputId": "457168ee-25b5-4b01-8d8a-f9fac0fea411"
      },
      "source": [
        "X_train = X_train_zero\n",
        "for r in [0, 0.000001, 0.0001, 0.001, 0.01, 0.1, 1, 5, 10]:\n",
        "  w0, w = train_linear_regression_reg(X_train, y_train, r=r)\n",
        "  y_pred = w0 + x_val_zero.dot(w)\n",
        "  print(f'for r= {r} \\t rmse =',round(rmse(y_val, y_pred),2))"
      ],
      "id": "0c30aacf",
      "execution_count": 167,
      "outputs": [
        {
          "output_type": "stream",
          "name": "stdout",
          "text": [
            "for r= 0 \t rmse = 0.64\n",
            "for r= 1e-06 \t rmse = 0.64\n",
            "for r= 0.0001 \t rmse = 0.64\n",
            "for r= 0.001 \t rmse = 0.64\n",
            "for r= 0.01 \t rmse = 0.65\n",
            "for r= 0.1 \t rmse = 0.68\n",
            "for r= 1 \t rmse = 0.68\n",
            "for r= 5 \t rmse = 0.68\n",
            "for r= 10 \t rmse = 0.68\n"
          ]
        }
      ]
    },
    {
      "cell_type": "markdown",
      "metadata": {
        "id": "gixMy670cIv5"
      },
      "source": [
        "**Question 5** \\\n",
        "*   We used seed 42 for splitting the data. Let's find out how selecting the seed influences our score.\n",
        "*   Try different seed values: [0, 1, 2, 3, 4, 5, 6, 7, 8, 9].\n",
        "*   For each seed, do the train/validation/test split with 60%/20%/20% distribution.\n",
        "*   Fill the missing values with 0 and train a model without regularization.\n",
        "*   For each seed, evaluate the model on the validation dataset and collect the RMSE scores.\n",
        "*   What's the standard deviation of all the scores? *   To compute the standard deviation, use np.std.\n",
        "*   Round the result to 3 decimal digits (round(std, 3))\n",
        "\n",
        "Note: Standard deviation shows how different the values are. If it's low, then all values are approximately the same. If it's high, the values are different. If standard deviation of scores is low, then our model is stable."
      ],
      "id": "gixMy670cIv5"
    },
    {
      "cell_type": "code",
      "metadata": {
        "id": "3T7r2-RocieC",
        "outputId": "1e9c7479-c6da-4fb3-9ede-9a0a1c0cd363",
        "colab": {
          "base_uri": "https://localhost:8080/"
        }
      },
      "source": [
        "list_rmse=[]\n",
        "for seed in [0, 1, 2, 3, 4, 5, 6, 7, 8, 9]:\n",
        "  np.random.seed(seed=seed)\n",
        "  np.random.shuffle(idx)\n",
        "  df_train = df_hw.iloc[idx[:n_train]]\n",
        "  df_val = df_hw.iloc[idx[n_train:n_train+n_val]]\n",
        "  df_test = df_hw.iloc[idx[n_train+n_val:]]\n",
        "  df_train = df_train.reset_index(drop=True)\n",
        "  df_val = df_val.reset_index(drop=True)\n",
        "  df_test = df_test.reset_index(drop=True)\n",
        "  y_train = np.log1p(df_train.price.values)\n",
        "  y_val = np.log1p(df_val.price.values)\n",
        "  y_test = np.log1p(df_test.price.values)\n",
        "  del df_train['price']\n",
        "  del df_val['price']\n",
        "  del df_test['price']\n",
        "  df_train_zero = df_train\n",
        "  df_train_zero['reviews_per_month'].fillna(0,inplace=True)\n",
        "  X_train_zero = df_train_zero\n",
        "  df_val_zero = df_val\n",
        "  df_val_zero['reviews_per_month'].fillna(0,inplace=True)\n",
        "  x_val_zero = df_val_zero\n",
        "  w0_zero, w_zero = train_linear_regression(X_train_zero, y_train)\n",
        "  y_pred_zero = w0_zero + x_val_zero.dot(w_zero)\n",
        "  rmse_value = rmse(y_val, y_pred_zero)\n",
        "  list_rmse.append(rmse_value)\n",
        "  print(f'seed = {seed} \\t rmse =', rmse_value)\n",
        "\n",
        "print('STD RMSE =', round(np.std(list_rmse),3))"
      ],
      "id": "3T7r2-RocieC",
      "execution_count": 211,
      "outputs": [
        {
          "output_type": "stream",
          "name": "stdout",
          "text": [
            "seed = 0 \t rmse = 0.6416856765657515\n",
            "seed = 1 \t rmse = 0.6377466012404271\n",
            "seed = 2 \t rmse = 0.660606676381699\n",
            "seed = 3 \t rmse = 0.6475267749931741\n",
            "seed = 4 \t rmse = 0.6336296341703395\n",
            "seed = 5 \t rmse = 0.6449202271732847\n",
            "seed = 6 \t rmse = 0.633721241135546\n",
            "seed = 7 \t rmse = 0.6436784541301908\n",
            "seed = 8 \t rmse = 0.641397747834323\n",
            "seed = 9 \t rmse = 0.6429286006744828\n",
            "STD RMSE = 0.007\n"
          ]
        }
      ]
    },
    {
      "cell_type": "code",
      "metadata": {
        "id": "Oe6fo3IAcig-"
      },
      "source": [
        ""
      ],
      "id": "Oe6fo3IAcig-",
      "execution_count": 171,
      "outputs": []
    },
    {
      "cell_type": "code",
      "metadata": {
        "id": "MSMjAdiucikO"
      },
      "source": [
        ""
      ],
      "id": "MSMjAdiucikO",
      "execution_count": null,
      "outputs": []
    },
    {
      "cell_type": "code",
      "metadata": {
        "id": "dM-Hj7x7cinO"
      },
      "source": [
        ""
      ],
      "id": "dM-Hj7x7cinO",
      "execution_count": null,
      "outputs": []
    },
    {
      "cell_type": "markdown",
      "metadata": {
        "id": "HI7o4TJ-lGl9"
      },
      "source": [
        "**Question 6** \\\n",
        "*   Split the dataset like previously, use seed 9.\n",
        "*   Combine train and validation datasets.\n",
        "*   Fill the missing values with 0 and train a model with r=0.001.\n",
        "*   What's the RMSE on the test dataset?"
      ],
      "id": "HI7o4TJ-lGl9"
    },
    {
      "cell_type": "code",
      "metadata": {
        "id": "k-6C0MOelsQe",
        "outputId": "e6b5b096-5c8b-4d1b-bedc-c6da89cfb2c5",
        "colab": {
          "base_uri": "https://localhost:8080/"
        }
      },
      "source": [
        "np.random.seed(seed=9)\n",
        "np.random.shuffle(idx)\n",
        "df_train = df_hw.iloc[idx[:n_train]]\n",
        "df_val = df_hw.iloc[idx[n_train:n_train+n_val]]\n",
        "df_test = df_hw.iloc[idx[n_train+n_val:]]\n",
        "df_full_train = pd.concat([df_train, df_val])\n",
        "\n",
        "df_full_train = df_full_train.reset_index(drop=True)\n",
        "df_train = df_train.reset_index(drop=True)\n",
        "df_val = df_val.reset_index(drop=True)\n",
        "df_test = df_test.reset_index(drop=True)\n",
        "\n",
        "y_train = np.log1p(df_train.price.values)\n",
        "y_val = np.log1p(df_val.price.values)\n",
        "y_test = np.log1p(df_test.price.values)\n",
        "\n",
        "del df_train['price']\n",
        "del df_val['price']\n",
        "del df_test['price']\n",
        "del df_full_train['price']\n",
        "\n",
        "y_full_train = np.concatenate([y_train, y_val])\n",
        "\n",
        "df_train_zero = df_full_train\n",
        "df_train_zero['reviews_per_month'].fillna(0,inplace=True)\n",
        "X_train_zero = df_train_zero\n",
        "df_val_zero = df_test\n",
        "df_val_zero['reviews_per_month'].fillna(0,inplace=True)\n",
        "x_val_zero = df_val_zero\n",
        "w0_zero, w_zero = train_linear_regression_reg(X_train_zero, y_full_train, r=0.001)\n",
        "y_pred_zero = w0_zero + x_val_zero.dot(w_zero)\n",
        "rmse_value = rmse(y_test, y_pred_zero)\n",
        "print(f'seed = {seed} \\t rmse =', rmse_value)"
      ],
      "id": "k-6C0MOelsQe",
      "execution_count": 224,
      "outputs": [
        {
          "output_type": "stream",
          "name": "stdout",
          "text": [
            "seed = 9 \t rmse = 0.6515396106393905\n"
          ]
        }
      ]
    }
  ]
}